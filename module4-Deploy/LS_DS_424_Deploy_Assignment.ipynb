{
  "nbformat": 4,
  "nbformat_minor": 0,
  "metadata": {
    "colab": {
      "name": "LS_DS_434_Deploy_Assignment.ipynb",
      "provenance": [],
      "collapsed_sections": []
    },
    "kernelspec": {
      "display_name": "py37  (Python3)",
      "language": "python",
      "name": "py37"
    },
    "language_info": {
      "codemirror_mode": {
        "name": "ipython",
        "version": 3
      },
      "file_extension": ".py",
      "mimetype": "text/x-python",
      "name": "python",
      "nbconvert_exporter": "python",
      "pygments_lexer": "ipython3",
      "version": "3.7.0"
    },
    "nteract": {
      "version": "0.22.4"
    }
  },
  "cells": [
    {
      "cell_type": "markdown",
      "metadata": {
        "id": "NGGrt9EYlCqY"
      },
      "source": [
        "\n",
        "\n",
        "\n",
        "# *Data Science Unit 4 Sprint 2 Assignment 4*\n",
        "\n",
        "Continue to use TensorFlow Keras & a sample of the [Quickdraw dataset](https://github.com/googlecreativelab/quickdraw-dataset) to build a sketch classification model. The dataset has been sampled to only 10 classes and 10000 observations per class. Apply regularization techniques to your model. \n",
        "\n",
        "**Don't forgot to switch to GPU on Colab!**\n",
        "\n",
        "\n",
        "## Objective \n",
        "\n",
        "In lecture, you were exposed to Lp space reguarlization, Max Norn weight constraints, and dropout. \n",
        "\n",
        "In this assignment, you will run several experiments in order to perform a deeper analysis on the effects that various regularization techniques have model performance and on the learned model weights. \n",
        "\n",
        "By the end of this assignment, these regularization techniques should no longer feel like black boxes to you (i.e. completely mysterious as to how they work.) \n"
      ]
    },
    {
      "cell_type": "markdown",
      "metadata": {
        "id": "ptJ2b3wk62Ud"
      },
      "source": [
        "#### Import libraries"
      ]
    },
    {
      "cell_type": "code",
      "metadata": {
        "id": "USXjs7Hk71Hy"
      },
      "source": [
        "# native libraries \n",
        "import os\n",
        "from time import time \n",
        "\n",
        "# data analysis libraries \n",
        "import numpy as np\n",
        "import pandas as pd\n",
        "import matplotlib.pyplot as plt\n",
        "import seaborn as sns\n",
        "\n",
        "# deep learning libraries \n",
        "from keras import Sequential\n",
        "from keras.callbacks import EarlyStopping, TensorBoard\n",
        "from keras.layers import Flatten, Dense, Dropout\n",
        "from keras.layers import ReLU\n",
        "from keras.initializers import GlorotUniform\n",
        "\n",
        "import tensorflow as tf\n",
        "from tensorflow.keras.datasets import fashion_mnist\n",
        "\n",
        "# regularizers \n",
        "from keras.regularizers import l2, l1\n",
        "from keras.constraints import MaxNorm\n",
        "\n",
        "# required for compatibility between sklearn and keras\n",
        "from tensorflow.keras.wrappers.scikit_learn import KerasClassifier\n",
        "\n",
        "from sklearn.model_selection import GridSearchCV\n",
        "\n",
        "# native python unit test library\n",
        "from unittest import TestCase\n",
        "\n",
        "%matplotlib inline"
      ],
      "execution_count": 1,
      "outputs": []
    },
    {
      "cell_type": "markdown",
      "metadata": {
        "id": "Mfi7nH4hppIy"
      },
      "source": [
        "-----\n",
        "\n",
        "# $L_p$ Space Regularization \n",
        "\n",
        "## Bridging Theory and Practice \n",
        "\n",
        "Because the idea of infinitely many vector spaces, each with their very own distance metric for measuring distance differently can seem very abstract, we are going to take that distance metric general formula and look at a few special cases by writing custom regularization functions and taking note of their effect a the model's learning outcomes. \n",
        "\n",
        "Don't forget to review the theory of $L_p$ Space Regularization in the guided project. \n",
        "\n",
        "Also, watch this video if you haven't already. "
      ]
    },
    {
      "cell_type": "code",
      "metadata": {
        "id": "cRViraalppIz",
        "outputId": "8fea1443-6eba-4dfa-9049-a7383e5e7e33",
        "colab": {
          "base_uri": "https://localhost:8080/",
          "height": 321
        }
      },
      "source": [
        "# check out this video for an animated explaination of Lp Space and distance metrics \n",
        "from IPython.display import YouTubeVideo\n",
        "YouTubeVideo('FiSy6zWDfiA', width=800, height=300)"
      ],
      "execution_count": 2,
      "outputs": [
        {
          "output_type": "execute_result",
          "data": {
            "text/html": [
              "\n",
              "        <iframe\n",
              "            width=\"800\"\n",
              "            height=\"300\"\n",
              "            src=\"https://www.youtube.com/embed/FiSy6zWDfiA\"\n",
              "            frameborder=\"0\"\n",
              "            allowfullscreen\n",
              "        ></iframe>\n",
              "        "
            ],
            "text/plain": [
              "<IPython.lib.display.YouTubeVideo at 0x7f12edddbf90>"
            ],
            "image/jpeg": "[encoded data removed]"
          },
          "metadata": {
            "tags": []
          },
          "execution_count": 2
        }
      ]
    },
    {
      "cell_type": "markdown",
      "metadata": {
        "id": "AuPFeiSippIz"
      },
      "source": [
        "### Distance Metric General Formula\n",
        "$${\\displaystyle \\left\\|x\\right\\|_{p}=\\left(|x_{1}|^{p}+|x_{2}|^{p}+\\dotsb +|x_{n}|^{p}\\right)^{1/p}.}$$\n",
        "\n",
        "Let's create a class for the distance metric general formula.\n",
        "\n",
        "\n",
        "There are 2 classes below: \n",
        "\n",
        "```python\n",
        "class Test_distance_metric_solution()\n",
        "```\n",
        "\n",
        "You don't need to change anything in this class. This class is here in order to make sure that you calculate each portion of the distance metric general formula correctly. \n",
        "\n",
        "\n",
        "```python\n",
        "class Lp_distance_metric_general_formula()\n",
        "```\n",
        "\n",
        "This is the class that you will complete. \n",
        "\n",
        "Each of the non `__call__` methods calculate one portion of the distance metric general formula. \n",
        "\n",
        "Breaking up each portion of the formula into a separate method is actually unnecessary. \n",
        "\n",
        "Including the entire calculation of the general formula into a single method is ideal, however it is more difficult to write granular unit tests that way. \n",
        "\n",
        "So, for instructional purposes, it was broken up into 3 methods. However, outside of an academic environment, we would only need the `__init__` and `__call__` methods. \n",
        "\n",
        "Having said that, it is good for you to see how a custom unit test class is used to test the calculations of another class. This is a portion of what software engineering looks like. Get used to it. You'll need good software engineering practices to make it in the world. You'll learn more about this in your CS unit. For now, consider it a bit of foreshadowing. "
      ]
    },
    {
      "cell_type": "code",
      "metadata": {
        "id": "1Rn2kAYippI0"
      },
      "source": [
        "class Test_distance_metric_solution(TestCase):\n",
        "    \"\"\"\n",
        "    This is a unit test class desgined to make sure that the student calcualtes each component \n",
        "    of the Distance Metric General Formula correctly. Thereby getting real-time feedback and correction. \n",
        "    \"\"\"\n",
        "    \n",
        "    def test_squared_vector_comps(self, test_array):\n",
        "        \"\"\"\n",
        "        This test makes sure that student calculate the sum_of_squared_comp correctly. \n",
        "        \"\"\"\n",
        "        answer = np.array([1., 4.])\n",
        "        # error message in case if test case got failed\n",
        "        message = \"you did not calcualte sum_of_squared_comp correctly\"\n",
        "        # assert function() to check if values are almost equal\n",
        "        np.testing.assert_array_equal(answer, test_array,  err_msg=message)\n",
        "        \n",
        "        \n",
        "    def test_sum_of_squared_comp(self, test_sum):\n",
        "        \"\"\"\n",
        "        This test makes sure that student calculate the sum_of_squared_comp correctly. \n",
        "        \"\"\"\n",
        "        answer = 5\n",
        "        # error message in case if test case got failed\n",
        "        message = \"you did not calcualte sum_of_squared_comp correctly\"\n",
        "        # assert function() to check if values are almost equal\n",
        "        np.testing.assert_array_equal(answer, test_sum,  err_msg=message)\n",
        "        \n",
        "    def test_vector_norm(self, test_norm):\n",
        "        \"\"\"\n",
        "        This test makes sure that student calculate the vector_norm correctly. \n",
        "        \"\"\"\n",
        "        answer = 2.236\n",
        "        decimalPlace = 3\n",
        "        # error message in case if test case got failed\n",
        "        message = \"you did not calcualte sum_of_squared_comp correctly\"\n",
        "        # assert function() to check if values are almost equal\n",
        "        self.assertAlmostEqual(answer, test_norm,  decimalPlace, message)        "
      ],
      "execution_count": 3,
      "outputs": []
    },
    {
      "cell_type": "markdown",
      "metadata": {
        "id": "EhWnMv4lppI1"
      },
      "source": [
        "### Fill in the missing code in the class below"
      ]
    },
    {
      "cell_type": "code",
      "metadata": {
        "deletable": false,
        "nbgrader": {
          "cell_type": "code",
          "checksum": "b8830110178a58a6fe1973906f649d36",
          "grade": false,
          "grade_id": "cell-0bd59a2d10fbf254",
          "locked": false,
          "schema_version": 3,
          "solution": true,
          "task": false
        },
        "id": "Tgb1PoUfppI1"
      },
      "source": [
        "class Lp_distance_metric_general_formula(object):\n",
        "    \"\"\"\n",
        "    This class takes the Lp distance metric general formual and sets p equal to a value provided by the user. \n",
        "    This has the effect of deriving a distance metric for a specific metric space and calcualting the distance \n",
        "    of a vector in that metric space.\n",
        "    \n",
        "    Example\n",
        "    -------\n",
        "    If the user sets p = 2, then the euclidean distance formula is derived.\n",
        "    If the user sets p = 1, then the taxicab distance formula is derived. \n",
        "    \n",
        "    Note\n",
        "    ----\n",
        "    It is possible to use p values less than 1 but those are special cases that we will ignore. \n",
        "    These special values are interesting for academic purposes but in practice you very likely won't need to know \n",
        "    about them.\n",
        "    \"\"\"\n",
        "\n",
        "    def __init__(self, p=2, reg_strength = 1.0):\n",
        "        \"\"\"\n",
        "        Parameters\n",
        "        ----------\n",
        "        \n",
        "        p: int or float\n",
        "            p value used for calculating the distance of a vector in a certain metric space\n",
        "            \n",
        "        reg_strength: int or float\n",
        "            usually set to a value less than 1.0 to decrease the strength of the distance metric when used as a model regularizer\n",
        "            keep this value at 1.0 when measureing vector norms (i.e. vector lengths)\n",
        "        \"\"\"\n",
        "        \n",
        "        assert p >=1 , \"p value must be greater than or equal to 1\"\n",
        "        \n",
        "        self.p = p\n",
        "        self.reg_strength = reg_strength\n",
        "                \n",
        "    def calc_squared_vector_comps(self, x):\n",
        "    \n",
        "        # raise each vector component in self.x to the power of p\n",
        "        # save result to self.squared_vector_comps\n",
        "        # YOUR CODE HERE\n",
        "        self.x = x\n",
        "        self.squared_vector_comps = self.x ** self.p\n",
        "        return self.squared_vector_comps\n",
        "\n",
        "    def calc_sum_of_squared_comp(self):\n",
        "        # take the sum of the squared components in self.squared_vector_comps\n",
        "        # save to self.sum_of_squared_comp\n",
        "        # hint: use tf.reduce_sum\n",
        "        # YOUR CODE HERE\n",
        "       self.sum_of_squared_comp = tf.math.reduce_sum(self.squared_vector_comps)\n",
        "       return self.sum_of_squared_comp\n",
        "\n",
        "    def calc_vector_norm(self):\n",
        "        \n",
        "        # take the 1/p root of the self.sum_of_squared_comp in order to calculate the norm, i.e. ||x||\n",
        "        # save result to self.vector_norm\n",
        "        # YOUR CODE HERE\n",
        "        self.vector_norm = self.sum_of_squared_comp ** (1/self.p)\n",
        "        return self.vector_norm\n",
        "        \n",
        "        \n",
        "    def __call__(self, x):\n",
        "        \"\"\"\n",
        "        This method calcualtes the distance (i.e. norm) for vector x in Lp space for a value p given by the use\n",
        "        \n",
        "        ‖𝑥‖𝑝 = (|𝑥_1|^𝑝 + |𝑥_2|^𝑝 + ⋯ +|𝑥_𝑛|^𝑝 )^1/𝑝\n",
        "        \n",
        "        Parameters\n",
        "        ----------\n",
        "        x: N-dimsional numpy array or tensorflow tensor of floats \n",
        "            x is our vector, could be a weight vector but any vector is valid \n",
        "            \n",
        "            \n",
        "        HINT\n",
        "        -----\n",
        "        You must use self.p when calculating squared_vector_comps and vector_norm\n",
        "        \"\"\"\n",
        "        \n",
        "        self.x = x\n",
        "        \n",
        "        # calculate these parts |𝑥_i|^𝑝\n",
        "        self.calc_squared_vector_comps(self.x)\n",
        "        \n",
        "        # calcualte this |𝑥_1|^𝑝 + |𝑥_2|^𝑝 + ⋯ +|𝑥_𝑛|^𝑝\n",
        "        self.calc_sum_of_squared_comp()\n",
        "        \n",
        "        # calculate this (|𝑥_1|^𝑝 + |𝑥_2|^𝑝 + ⋯ +|𝑥_𝑛|^𝑝 )^1/𝑝\n",
        "        self.calc_vector_norm()\n",
        "        \n",
        "        # return the vector norm scaled by a regularization penality\n",
        "        # we say penality because the value is usually less than 1.0 thereby scaling down the norm\n",
        "        return self.reg_strength * self.vector_norm"
      ],
      "execution_count": 82,
      "outputs": []
    },
    {
      "cell_type": "markdown",
      "metadata": {
        "id": "J_T_FpBUppI2"
      },
      "source": [
        "------\n",
        "### Unit Test your code\n",
        "\n",
        "You know you wrote your class correctly when all the unit tests pass. \n",
        "\n",
        "So the code in the following cell should run without throwing a single error. \n",
        "\n",
        "Protip: you can comment out 2nd and 3rd unit test in order to test your results for the first method and then uncomment as you go. Feel free to create a new cell and run your own testing there. "
      ]
    },
    {
      "cell_type": "code",
      "metadata": {
        "id": "XzKo055bGGDw"
      },
      "source": [
        "import tensorflow.python.ops.numpy_ops.np_config as np_config\n",
        "np_config.enable_numpy_behavior()"
      ],
      "execution_count": 78,
      "outputs": []
    },
    {
      "cell_type": "code",
      "metadata": {
        "id": "yBbwZ55QppI3"
      },
      "source": [
        "# instantiate the unit test class that will check the calculates of Lp_distance_metric_general_formula's methods\n",
        "tests = Test_distance_metric_solution()\n",
        "\n",
        "# instantiate Lp_distance_metric_general_formula, set p = 2 in order to derive the euclidean distance metric\n",
        "lp = Lp_distance_metric_general_formula( p=2, reg_strength = 1.0)\n",
        "\n",
        "# don't change this test_vector\n",
        "# Test_distance_metric_solution assumes that you're using ths exact test_vector\n",
        "test_vector = np.array([1., 2.])\n",
        "lp(test_vector)\n",
        "\n",
        "# test the calculations that are perform in each of the following lp class methods \n",
        "tests.test_squared_vector_comps(lp.squared_vector_comps)\n",
        "tests.test_sum_of_squared_comp(lp.sum_of_squared_comp)\n",
        "tests.test_vector_norm(lp.vector_norm.numpy())"
      ],
      "execution_count": 83,
      "outputs": []
    },
    {
      "cell_type": "code",
      "metadata": {
        "id": "BvyO3iZvppI3",
        "outputId": "c46fe720-4e10-48d0-fd9f-65fe0b297a13",
        "colab": {
          "base_uri": "https://localhost:8080/"
        }
      },
      "source": [
        "# note: because we use tf.reduce_sum to calculate sum_of_squared_comp\n",
        "# the result is inside of a tensor and we need to use .numpy() to get the scalar out of the tensor \n",
        "print (lp.vector_norm)"
      ],
      "execution_count": 85,
      "outputs": [
        {
          "output_type": "stream",
          "text": [
            "tf.Tensor(2.23606797749979, shape=(), dtype=float64)\n"
          ],
          "name": "stdout"
        }
      ]
    },
    {
      "cell_type": "code",
      "metadata": {
        "id": "DZIrw8_2ppI3",
        "outputId": "498edd30-31e7-49d5-a8c3-c5dd7507cc0d",
        "colab": {
          "base_uri": "https://localhost:8080/"
        }
      },
      "source": [
        "print (lp.vector_norm.numpy())"
      ],
      "execution_count": 86,
      "outputs": [
        {
          "output_type": "stream",
          "text": [
            "2.23606797749979\n"
          ],
          "name": "stdout"
        }
      ]
    },
    {
      "cell_type": "markdown",
      "metadata": {
        "id": "sRqCLbSLppI4"
      },
      "source": [
        "----"
      ]
    },
    {
      "cell_type": "markdown",
      "metadata": {
        "id": "P-kaBUNBppI4"
      },
      "source": [
        "### Apply our $L_p$ Space Class\n",
        "\n",
        "Next we will use our distance metric class in order to calculate the euclidean and taxicab distance of our vector below. "
      ]
    },
    {
      "cell_type": "code",
      "metadata": {
        "id": "DHcPXJ3zppI4",
        "outputId": "e2d96932-7185-4b38-9267-0483cbbcd46e",
        "colab": {
          "base_uri": "https://localhost:8080/",
          "height": 378
        }
      },
      "source": [
        "# W is a 2D vector with an x and y component, i.e. (x, y) = (4,3)\n",
        "W = np.array([4., 3.])\n",
        "\n",
        "# origin point - we need to specify the starting point for plotting\n",
        "origin = np.array([0,0])\n",
        "\n",
        "plt.figure(figsize=(10, 6))\n",
        "ax = plt.axes()\n",
        "\n",
        "ax.arrow(origin[0], origin[1], W[0], W[1], head_width=0.5, head_length=0.7, fc='lightblue', ec='black')\n",
        "\n",
        "plt.grid()\n",
        "plt.yticks(np.arange(0,5))\n",
        "plt.xticks(np.arange(0,6));"
      ],
      "execution_count": 99,
      "outputs": [
        {
          "output_type": "display_data",
          "data": {
            "image/png": "[encoded data removed]",
            "text/plain": [
              "<Figure size 720x432 with 1 Axes>"
            ]
          },
          "metadata": {
            "tags": [],
            "needs_background": "light"
          }
        }
      ]
    },
    {
      "cell_type": "markdown",
      "metadata": {
        "id": "EatpX2pgppI4"
      },
      "source": [
        "## Derive Euclidean Distance from the General Formula \n",
        "\n",
        "This is the general formula for distance metrics. Where we have an N-dimensional weight vector **w**. Notice that the general formula has a vector component for each of the N dimensions. Hence, it is the general formula.\n",
        "\n",
        "$${\\displaystyle \\left\\|\\textbf{w}\\right\\|_{p}=\\left(|w_{1}|^{p}+|w_{2}|^{p}+\\dotsb +|w_{n}|^{p}\\right)^{1/p}.}$$\n",
        " \n",
        "\n",
        "Let N = 2 such that our weight vector now exists in 2 dimensional space. \n",
        "\n",
        "Let p = 2 such that our weight vector's distance will be calculated in $L_{p=2}$ space \n",
        "\n",
        "In which case our general formula gets reduced from N-dimensions to 2-dimensions. So now we only need to consider a distance formula for a vector with 2 components, one for each dimension.\n",
        "\n",
        "$$||\\textbf{w}||_{p=2} = ((x_2 - x_1)^2 + (y_2 - y_1)^2)^{1/2}$$\n",
        "\n",
        "Now just re-express the square root and we arrive at the familiar Euclidean Distance from high school algebra. \n",
        "\n",
        "$$||\\textbf{w}||_{p=2} = \\sqrt{(x_2 - x_1)^2 + (y_2 - y_1)^2}$$\n",
        "\n",
        "\n",
        "You might be wondering about why the general case doesn't have differences for the components but the Euclidean Distance does explicitly show the component wise differences. It is common in mathematics to suppress certain information, especially if that information is \"obvious\" - however what is obvious is highly relative. \n",
        "\n",
        "The general formula assumes that the vector starts at the origin, in which case, there's no need to show the subtraction of zero from a vector component. \n",
        "\n",
        "Assuming that our vector starts at the origin (and it does) the formula can be reduced to \n",
        "\n",
        "$$||\\textbf{w}||_{p=2} = \\sqrt{(x_2 - 0)^2 + (y_2 - 0)^2}$$\n",
        "\n",
        "$$||\\textbf{w}||_{p=2} = \\sqrt{x_2^2 + y_2^2}$$"
      ]
    },
    {
      "cell_type": "markdown",
      "metadata": {
        "id": "mNCpa8myppI5"
      },
      "source": [
        "### Euclidean distance of our Vector \n",
        "\n",
        "With **p=2** in our `Lp_distance_metric_general_formula` class, we can calculate the euclidean distance of our vector **w**. I encourage you to either solve the euclidean distance of our vector either in your head or on paper to prove to yourself that the above formula that we derived works and gives you `5` as an answer. "
      ]
    },
    {
      "cell_type": "code",
      "metadata": {
        "deletable": false,
        "nbgrader": {
          "cell_type": "code",
          "checksum": "bf0cdea85e37c69f73956bf851cba8d6",
          "grade": false,
          "grade_id": "cell-74dae14f4bbad1ab",
          "locked": false,
          "schema_version": 3,
          "solution": true,
          "task": false
        },
        "id": "SE5iRJ1YppI5",
        "outputId": "5995e831-8ca7-46c7-cba0-434c7c287c5d",
        "colab": {
          "base_uri": "https://localhost:8080/"
        }
      },
      "source": [
        "# YOUR CODE HERE\n",
        "p = 2\n",
        "w_p_2 = ((4-0)**p + (3-0)**p)**(1/p)\n",
        "w_p_2"
      ],
      "execution_count": 88,
      "outputs": [
        {
          "output_type": "execute_result",
          "data": {
            "text/plain": [
              "5.0"
            ]
          },
          "metadata": {
            "tags": []
          },
          "execution_count": 88
        }
      ]
    },
    {
      "cell_type": "markdown",
      "metadata": {
        "id": "geV9cMWfppI5"
      },
      "source": [
        "-----\n",
        "\n",
        "## Derive Taxicab Distance from the General Formula \n",
        "\n",
        "This is the general formula for distance metrics. Where we have an N-dimensional weight vector **w**. Notice that the general formula has a vector component for each of the N dimensions. Hence, it is the general formula.\n",
        "\n",
        "$${\\displaystyle \\left\\|\\textbf{w}\\right\\|_{p}=\\left(|w_{1}|^{p}+|w_{2}|^{p}+\\dotsb +|w_{n}|^{p}\\right)^{1/p}.}$$\n",
        " \n",
        "\n",
        "Let N = 2 such that our weight vector now exists in 2 dimensional space. \n",
        "\n",
        "Let p = 1 such that our weight vector's distance will be calculated in $L_{p=1}$ space \n",
        "\n",
        "\n",
        "In which case our general formula gets reduced from N-dimensions to 2-dimensions. So now we only need to consider a distance formula for a vector with 2 components, one for each dimension.\n",
        "\n",
        "$$||\\textbf{w}||_{p=1} = ((x_2 - x_1)^1 + (y_2 - y_1)^1)^{1/1}$$\n",
        "\n",
        "There's no need to express all those 1's\n",
        "\n",
        "$$||\\textbf{w}||_{p=1} = (x_2 - x_1) + (y_2 - y_1) $$\n",
        "\n",
        "Assuming that our vector starts at the origin (which it does)\n",
        "\n",
        "$$||\\textbf{w}||_{p=1} = (x_2 - 0) + (y_2 - 0) $$\n",
        "\n",
        "\n",
        "\n",
        "$$||\\textbf{w}||_{p=1} = x + y $$\n",
        "\n",
        "We have just derived the Taxicab distance metric from the general formula. The above equation tells us to add up all the steps in the x and y direction in order to calculate the Taxicab distance."
      ]
    },
    {
      "cell_type": "markdown",
      "metadata": {
        "id": "7RqJ9GFcppI6"
      },
      "source": [
        "### Taxicab distance of our Vector \n",
        "\n",
        "With **p=1** in our `Lp_distance_metric_general_formula` class, we can calculate the taxicab distance of our vector **w**. This distance we can easily calculate in our head. Look at the plot of the vector and simply add up all the x and y components, i.e. count up all the steps you have to take in order to \"walk\" from the origin to the head of the vector. Do this to prove to yourself that the taxicab distance of our vector is `7`. "
      ]
    },
    {
      "cell_type": "code",
      "metadata": {
        "deletable": false,
        "nbgrader": {
          "cell_type": "code",
          "checksum": "9a527c635255f30979d1759e4ecc480d",
          "grade": false,
          "grade_id": "cell-9bf41d7142ad35e9",
          "locked": false,
          "schema_version": 3,
          "solution": true,
          "task": false
        },
        "id": "AAnY4flrppI6",
        "outputId": "20514ca9-7015-49b3-f8e9-4d91c352cd74",
        "colab": {
          "base_uri": "https://localhost:8080/"
        }
      },
      "source": [
        "# use Lp_distance_metric_general_formula class to calculate the taxicab distance of w\n",
        "\n",
        "# YOUR CODE HERE\n",
        "p = 1\n",
        "w_p_1 = ((4-0)**p + (3-0)**p)**(1/p)\n",
        "w_p_1"
      ],
      "execution_count": 89,
      "outputs": [
        {
          "output_type": "execute_result",
          "data": {
            "text/plain": [
              "7.0"
            ]
          },
          "metadata": {
            "tags": []
          },
          "execution_count": 89
        }
      ]
    },
    {
      "cell_type": "markdown",
      "metadata": {
        "id": "jUB3YqEippI6"
      },
      "source": [
        "### Elastic Net Distance \n",
        "\n",
        "\n",
        "Elastic Net is a combination of L1 and L2. Compare the geometry below. \n",
        "\n",
        "![](https://ds100.org/sp17/assets/notebooks/linear_regression/norm_balls.png)\n",
        "\n",
        "The mathematical derivation of the distance metric for  $L_{p=3/2}$ space will be left to you as an optional exercise. "
      ]
    },
    {
      "cell_type": "code",
      "metadata": {
        "deletable": false,
        "nbgrader": {
          "cell_type": "code",
          "checksum": "0f19be155b2e5be75c855710eab34cdd",
          "grade": false,
          "grade_id": "cell-d657c845dbb1ab23",
          "locked": false,
          "schema_version": 3,
          "solution": true,
          "task": false
        },
        "id": "womQKF-NppI6",
        "outputId": "77ed8a0f-b7fd-4ea9-e4ce-ca11287de3a6",
        "colab": {
          "base_uri": "https://localhost:8080/"
        }
      },
      "source": [
        "# use Lp_distance_metric_general_formula class to calculate the Elastic Net distance of w\n",
        "\n",
        "# YOUR CODE HERE\n",
        "p = 3/2\n",
        "w_p_32 = ((4-0)**p + (3-0)**p)**(1/p)\n",
        "w_p_32"
      ],
      "execution_count": 90,
      "outputs": [
        {
          "output_type": "execute_result",
          "data": {
            "text/plain": [
              "5.584250376480029"
            ]
          },
          "metadata": {
            "tags": []
          },
          "execution_count": 90
        }
      ]
    },
    {
      "cell_type": "markdown",
      "metadata": {
        "id": "k3BPzlaXppI7"
      },
      "source": [
        "-----\n",
        "\n",
        "## Use Custom Lp Space class in modeling\n",
        "\n",
        "Let's create a function that returns complied keras models so that we can run an experiment in order to compare the modeling results from using a keras L2 and our custom L2 regularizer. "
      ]
    },
    {
      "cell_type": "markdown",
      "metadata": {
        "id": "WljTSw4_ppI7"
      },
      "source": [
        "-----\n",
        "### Load Data"
      ]
    },
    {
      "cell_type": "code",
      "metadata": {
        "id": "LavIzHlmppI7"
      },
      "source": [
        "def load_data():\n",
        "    \"\"\"\n",
        "    Load in and normalize image data set\n",
        "    \"\"\"\n",
        "    \n",
        "    # load in our dataset \n",
        "    (X_train, y_train), (X_test, y_test) = fashion_mnist.load_data()\n",
        "\n",
        "    # normalize pixel values between 0 and 1 \n",
        "    max_pixel_value = X_train.max()\n",
        "    X_train, X_test = X_train /max_pixel_value , X_test / max_pixel_value\n",
        "    \n",
        "    return X_train, y_train, X_test, y_test"
      ],
      "execution_count": 91,
      "outputs": []
    },
    {
      "cell_type": "code",
      "metadata": {
        "id": "5vASTLQdppI7",
        "outputId": "342b65f6-a909-406d-a8c7-a09e8627faa5",
        "colab": {
          "base_uri": "https://localhost:8080/"
        }
      },
      "source": [
        "X_train, y_train, X_test, y_test = load_data()"
      ],
      "execution_count": 92,
      "outputs": [
        {
          "output_type": "stream",
          "text": [
            "Downloading data from https://storage.googleapis.com/tensorflow/tf-keras-datasets/train-labels-idx1-ubyte.gz\n",
            "32768/29515 [=================================] - 0s 0us/step\n",
            "Downloading data from https://storage.googleapis.com/tensorflow/tf-keras-datasets/train-images-idx3-ubyte.gz\n",
            "26427392/26421880 [==============================] - 0s 0us/step\n",
            "Downloading data from https://storage.googleapis.com/tensorflow/tf-keras-datasets/t10k-labels-idx1-ubyte.gz\n",
            "8192/5148 [===============================================] - 0s 0us/step\n",
            "Downloading data from https://storage.googleapis.com/tensorflow/tf-keras-datasets/t10k-images-idx3-ubyte.gz\n",
            "4423680/4422102 [==============================] - 0s 0us/step\n"
          ],
          "name": "stdout"
        }
      ]
    },
    {
      "cell_type": "code",
      "metadata": {
        "id": "Vyis3MqkppI7",
        "outputId": "45d152a9-4266-4ac9-d6a6-46903698f6ad",
        "colab": {
          "base_uri": "https://localhost:8080/"
        }
      },
      "source": [
        "# this is equal to the number of nodes in the output layer\n",
        "N_labels = len(np.unique(y_train))\n",
        "N_labels"
      ],
      "execution_count": 93,
      "outputs": [
        {
          "output_type": "execute_result",
          "data": {
            "text/plain": [
              "10"
            ]
          },
          "metadata": {
            "tags": []
          },
          "execution_count": 93
        }
      ]
    },
    {
      "cell_type": "code",
      "metadata": {
        "id": "aWTl61OgppI8"
      },
      "source": [
        "def create_model(reg=None):\n",
        "    # instantiate Sequential class\n",
        "    model = Sequential([\n",
        "\n",
        "    # flatten images \n",
        "        Flatten(input_shape=(28,28)), # images will be flattend out to 784 dims row vectors \n",
        "\n",
        "    # hidden layer 1\n",
        "        Dense(500, kernel_regularizer=reg),\n",
        "\n",
        "    # act func 1\n",
        "        ReLU(negative_slope=0.01),\n",
        "\n",
        "    # output layer \n",
        "        Dense(10, activation =\"softmax\")   \n",
        "    ])\n",
        "\n",
        "    # compile model \n",
        "    model.compile(loss=\"sparse_categorical_crossentropy\", \n",
        "                  optimizer= \"adam\", \n",
        "                  metrics=[\"accuracy\"])\n",
        "    \n",
        "    return model"
      ],
      "execution_count": 94,
      "outputs": []
    },
    {
      "cell_type": "markdown",
      "metadata": {
        "id": "Dfrc4hj5ppI8"
      },
      "source": [
        "----\n",
        "\n",
        "## Experiment 1: Calculate vector lengths using Keras and Custom Regularizer"
      ]
    },
    {
      "cell_type": "markdown",
      "metadata": {
        "id": "DEPitc8HppI8"
      },
      "source": [
        "\n",
        "\n",
        "If you read the [**Keras Documentation**](https://keras.io/api/layers/regularizers/) for their implementation of L2 regularization you'll see this:\n",
        "\n",
        "    The L2 regularization penalty is computed as: loss = l2 * reduce_sum(square(x))\n",
        "    \n",
        "Notice that Keras isn't taking the square root for L2 where as we are take the square root. \n",
        "\n",
        "Why isn't Keras taking the square root? I don't know but we will stay true to the math and take the square root for our implementation of L2 regularization. \n",
        "\n"
      ]
    },
    {
      "cell_type": "code",
      "metadata": {
        "id": "xHRhAMbxHvf2",
        "outputId": "6eb7a609-90ad-41f4-977b-b37227041e29",
        "colab": {
          "base_uri": "https://localhost:8080/"
        }
      },
      "source": [
        "W"
      ],
      "execution_count": 100,
      "outputs": [
        {
          "output_type": "execute_result",
          "data": {
            "text/plain": [
              "array([4., 3.])"
            ]
          },
          "metadata": {
            "tags": []
          },
          "execution_count": 100
        }
      ]
    },
    {
      "cell_type": "code",
      "metadata": {
        "id": "ZuFMLMJxppI8",
        "outputId": "fe6349da-a06c-4250-b805-c932a1a71b94",
        "colab": {
          "base_uri": "https://localhost:8080/"
        }
      },
      "source": [
        "custom_l2 = Lp_distance_metric_general_formula(p=2, reg_strength = 1.0)\n",
        "# the length of the W vector from above as calcualted by the formula that we derived \n",
        "custom_l2(W).numpy()"
      ],
      "execution_count": 101,
      "outputs": [
        {
          "output_type": "execute_result",
          "data": {
            "text/plain": [
              "5.0"
            ]
          },
          "metadata": {
            "tags": []
          },
          "execution_count": 101
        }
      ]
    },
    {
      "cell_type": "code",
      "metadata": {
        "id": "NqJlFQpippI9",
        "outputId": "7d1a0e14-8c6d-4453-c590-10734a291a7b",
        "colab": {
          "base_uri": "https://localhost:8080/"
        }
      },
      "source": [
        "from keras.regularizers import L2\n",
        "keras_l2 = L2(l2=1.0)\n",
        "# again Keras doesn't take the square root\n",
        "keras_l2(W).numpy()"
      ],
      "execution_count": 102,
      "outputs": [
        {
          "output_type": "execute_result",
          "data": {
            "text/plain": [
              "25.0"
            ]
          },
          "metadata": {
            "tags": []
          },
          "execution_count": 102
        }
      ]
    },
    {
      "cell_type": "code",
      "metadata": {
        "id": "JF9XhL6LppI9",
        "outputId": "6be9de9b-4715-45c7-b8cf-eba9c23caee2",
        "colab": {
          "base_uri": "https://localhost:8080/"
        }
      },
      "source": [
        "# but if we take the square root, then we get the same answer that our custom regularizer class gives us \n",
        "np.sqrt(keras_l2(W).numpy())"
      ],
      "execution_count": 103,
      "outputs": [
        {
          "output_type": "execute_result",
          "data": {
            "text/plain": [
              "5.0"
            ]
          },
          "metadata": {
            "tags": []
          },
          "execution_count": 103
        }
      ]
    },
    {
      "cell_type": "markdown",
      "metadata": {
        "id": "ZYqpHkWbppI9"
      },
      "source": [
        "----\n",
        "## Experiment 2: Compare Keras L2 and Custom L2 regularization in a model\n",
        "\n",
        "\n",
        "### Use Keras Built-in L2 regularizer \n",
        "\n",
        "Make sure to use the same regularization strength in the Keras pre-built L2 regularizer and in our custom L2 regularizer."
      ]
    },
    {
      "cell_type": "code",
      "metadata": {
        "id": "izA1aTTrppI9",
        "outputId": "6ffc4ade-4a65-4679-f6eb-faaf873c04a7",
        "colab": {
          "base_uri": "https://localhost:8080/"
        }
      },
      "source": [
        "model_keras_l2 = create_model(reg=L2(l2=0.01))\n",
        "keras_l2_results = model_keras_l2.fit(X_train, y_train,\n",
        "                                      epochs=1,\n",
        "                                      validation_data=(X_test, y_test), \n",
        "                                      workers=10) # check! You might not be able to use 10 processors on your machine "
      ],
      "execution_count": 104,
      "outputs": [
        {
          "output_type": "stream",
          "text": [
            "1875/1875 [==============================] - 25s 6ms/step - loss: 1.6621 - accuracy: 0.7526 - val_loss: 0.7231 - val_accuracy: 0.7917\n"
          ],
          "name": "stdout"
        }
      ]
    },
    {
      "cell_type": "markdown",
      "metadata": {
        "id": "vdFnMIn-ppI-"
      },
      "source": [
        "### Use Custom Regularization Class \n",
        "\n",
        "Make sure to use the same regularization strength in the Keras pre-built L2 regularizer and in our custom L2 regularizer."
      ]
    },
    {
      "cell_type": "code",
      "metadata": {
        "id": "-Qohlpp2ppI-"
      },
      "source": [
        "# set p= 2 so that we are using the same L2 regularizer as above\n",
        "lp = Lp_distance_metric_general_formula(p=2, reg_strength = 0.01)"
      ],
      "execution_count": 105,
      "outputs": []
    },
    {
      "cell_type": "code",
      "metadata": {
        "id": "NgYOzq92ppI-",
        "outputId": "07240de8-8b8a-44a3-aa52-70ba45a746ac",
        "colab": {
          "base_uri": "https://localhost:8080/"
        }
      },
      "source": [
        "model_custom_l2 = create_model(reg=lp)\n",
        "custom_l2_results = model_custom_l2.fit(X_train, y_train,\n",
        "                                      epochs=1,\n",
        "                                      validation_data=(X_test, y_test), \n",
        "                                      workers=10) # check! You might not be able to use 10 processors on your machine "
      ],
      "execution_count": 106,
      "outputs": [
        {
          "output_type": "stream",
          "text": [
            "1875/1875 [==============================] - 12s 6ms/step - loss: 0.8111 - accuracy: 0.7932 - val_loss: 0.6294 - val_accuracy: 0.8345\n"
          ],
          "name": "stdout"
        }
      ]
    },
    {
      "cell_type": "markdown",
      "metadata": {
        "id": "VYd457P4ppI-"
      },
      "source": [
        "----\n",
        "### Compare Model Results\n",
        "\n",
        "Let's compare the modeling results between the two models. \n",
        "\n",
        "Whatever the specific test accuracies are, it should be the case that using our custom class leads to slightly better results than using the Keras version of $L_2$ regularization.\n",
        "\n",
        "There a small difference between test accuracies, possible due to the random sampling for the initial weight values. But also possibly from the observation that we made above - Keras isn't taking the square root. "
      ]
    },
    {
      "cell_type": "code",
      "metadata": {
        "id": "6vre3a-HppI_",
        "outputId": "3f75e18e-3d9e-4cdf-e326-63289e9c3d67",
        "colab": {
          "base_uri": "https://localhost:8080/"
        }
      },
      "source": [
        "_, keras_acc = model_keras_l2.evaluate(X_test, y_test)"
      ],
      "execution_count": 107,
      "outputs": [
        {
          "output_type": "stream",
          "text": [
            "313/313 [==============================] - 1s 3ms/step - loss: 0.7231 - accuracy: 0.7917\n"
          ],
          "name": "stdout"
        }
      ]
    },
    {
      "cell_type": "code",
      "metadata": {
        "id": "EiGMyZXxppI_",
        "outputId": "2225d3bd-b908-4912-f02e-78743d688333",
        "colab": {
          "base_uri": "https://localhost:8080/"
        }
      },
      "source": [
        "_, custom_acc = model_custom_l2.evaluate(X_test, y_test)"
      ],
      "execution_count": 108,
      "outputs": [
        {
          "output_type": "stream",
          "text": [
            "313/313 [==============================] - 1s 3ms/step - loss: 0.6294 - accuracy: 0.8345\n"
          ],
          "name": "stdout"
        }
      ]
    },
    {
      "cell_type": "markdown",
      "metadata": {
        "id": "dhjG_3moppI_"
      },
      "source": [
        "\n",
        "### Conclusion \n",
        "\n",
        "In this experiment, we have bridged the gap between the theory of **$L_p$ Space Regularization** and the practice of using the general formula as a starting point to derive and build our very own regularizers. \n",
        "\n",
        "This experiment (and the Perceptron that we build from scratch in Sprint 2 Module 1) are examples of **mathematical algorithms** - an algorithm in mathematics is a procedure, a description of a set of steps that can be used to solve a mathematical computation.\n",
        "\n",
        "It's one thing to use open-source pre-built mathematical algorithms like Keras regularizers and Sklearn ML models but it's quite another thing to build them from scratch. \n",
        "\n",
        "In industry, you'll need to know when you should build something from scratch and when to use an open source solution. The rule of thumb is don't build it if someone else already has because maintaining the code and fixing bugs is something that other developers (ie. the open-source community) can spend their time on and you don't have to. But if an open source solution doesn't exist for a solution that you need, then you'll need to build it or try an alternative solution.\n",
        "\n",
        "It's a good thing you're taking the time to practice building some mathematical algorithms from scratch. It's a very valuable skill to have. "
      ]
    },
    {
      "cell_type": "markdown",
      "metadata": {
        "id": "GHUo3QC2ppI_"
      },
      "source": [
        "-----\n",
        "# GridSearch Experiments \n",
        "\n",
        "The next set of experiments will all involve gridsearching regularization parameter values. \n",
        "\n",
        "The rest of the notebook will actually require very little coding on your part. Instead, the focus is for you to run those gridsearches and answer the questions at the end of each experiment. Those questions are designed to help you capture the insights that there are to learn from each of the experiments. \n",
        "\n",
        "All of the following experiments are designed to help you better understand the relationship between the various regularization techniques and how they affect model performance. \n",
        "\n",
        "\n",
        "### Build Model\n",
        "\n",
        "Let's build out the model that we'll be using all throughout our experiments. \n",
        "\n",
        "Remember that **the whole point of regularization is to prevent overfitting.**\n",
        "\n",
        "\n",
        "![](https://hackernoon.com/hn-images/1*vuZxFMi5fODz2OEcpG-S1g.png)\n",
        "\n",
        "Overfitting happens when are model's are too complex, so in order to see a benefit from the use of regularization techniques we need to build a relatively complex model. \n",
        "\n",
        "Having said that, you might not have the computational resource to be able to train a complex model in a reasonable amount of time. So if this describes you, then you might want to consider using `build_simple_model`. Otherwise, I recommend that you use `build_complex_model`. \n",
        "\n",
        "This notebook will be using  `build_complex_model` to run our experiments. \n",
        "\n",
        "**NOTE:** Whichever function you end up using to build a model, take time to read through the code and make sure you understand what is happening. "
      ]
    },
    {
      "cell_type": "code",
      "metadata": {
        "id": "Q54oc5JsppI_"
      },
      "source": [
        "def build_complex_model(Lp_reg=None, reg_penality=None, dropout_prob=0.0, maxnorm_wc=None):\n",
        "    \"\"\"\n",
        "    Build and return a regularized 3 hidden layer FCFF model \n",
        "    \n",
        "    Parameters\n",
        "    ----------\n",
        "    Lp_reg: None or object\n",
        "        If object, Lp_reg is either l1 or l2 regularization \n",
        "        If None, that means that l1 or l2 regularization will not be used.\n",
        "     \n",
        "    reg_penality: None or float\n",
        "        If float, reg_penality is a value typically between 1.0 and 0.0001\n",
        "        This is the regularization strength for l1 or l2 \n",
        "        \n",
        "        \n",
        "    dropout_prob: float\n",
        "        This is the probability that dropout regularization will exclude a node from a training iteration. \n",
        "        If this value is 0.0, that means that dropout will not be used. \n",
        "        \n",
        "    maxnorm_wc: None or float\n",
        "        If float, maxnorm_wc is the weight constraint that is used for Max Norm regularization\n",
        "        If None, that means that Max Norm regularization will not be used.\n",
        "        \n",
        "        \n",
        "    Return\n",
        "    ------\n",
        "    model: complied Keras model\n",
        "    \"\"\"\n",
        "    \n",
        "    # if reg_type is not None, then pass in the penality strength to whatever form of Lp space regularization this is \n",
        "    if Lp_reg is not None:\n",
        "        Lp_regularizer = Lp_reg(reg_penality)\n",
        "    else:\n",
        "        Lp_regularizer = None\n",
        "                \n",
        "    if maxnorm_wc is not None:\n",
        "        wc = MaxNorm(max_value=maxnorm_wc)\n",
        "    else:\n",
        "        wc = None\n",
        "\n",
        "\n",
        "    # instantiate Sequential class\n",
        "    model = Sequential([\n",
        "\n",
        "    # flatten images \n",
        "    Flatten(input_shape=(28,28)),\n",
        "\n",
        "    # hidden layer 1\n",
        "    Dense(500, kernel_regularizer=Lp_regularizer , kernel_constraint=wc), # remember that Keras refers to weight matrix as a kernel, i.e. weights = kernel\n",
        "    # act func 1\n",
        "    ReLU(negative_slope=0.01),\n",
        "    Dropout(dropout_prob),\n",
        "\n",
        "    # hidden layer 2\n",
        "    Dense(250, kernel_regularizer=Lp_regularizer, kernel_constraint=wc),\n",
        "    # act func 2\n",
        "    ReLU(negative_slope=0.01),\n",
        "    Dropout(dropout_prob),\n",
        "\n",
        "    # hidden layer 3\n",
        "    Dense(100, kernel_regularizer=Lp_regularizer, kernel_constraint=wc),\n",
        "    # act func 2\n",
        "    ReLU(negative_slope=0.01),\n",
        "    Dropout(dropout_prob),\n",
        "\n",
        "    # output layer   \n",
        "    Dense(N_labels, activation=\"softmax\")  \n",
        "\n",
        "    ])\n",
        "    # complie model \n",
        "    model.compile(loss=\"sparse_categorical_crossentropy\", \n",
        "                 optimizer=\"adam\", \n",
        "                 metrics=[\"accuracy\"])\n",
        "    \n",
        "    return model"
      ],
      "execution_count": 109,
      "outputs": []
    },
    {
      "cell_type": "markdown",
      "metadata": {
        "id": "1GLnQ-MlppJA"
      },
      "source": [
        "Again, only use `build_simple_model` instead of `build_complex_model` if you're working on a machine with very limited computational resource. "
      ]
    },
    {
      "cell_type": "code",
      "metadata": {
        "id": "-bgFatAxppJA"
      },
      "source": [
        "# def build_simple_model(Lp_reg=None, reg_penality=None, dropout_prob=0, maxnorm_wc=None):\n",
        "#     \"\"\"\n",
        "#     Build and return a regularized 1 hidden layer FCFF model \n",
        "    \n",
        "#     Parameters\n",
        "#     ----------\n",
        "#     Lp_reg: None or object\n",
        "#         If object, Lp_reg is either l1 or l2 regularization \n",
        "#         If None, that means that l1 or l2 regularization will not be used.\n",
        "     \n",
        "#     reg_penality: None or float\n",
        "#         If float, reg_penality is a value typically between 1.0 and 0.0001\n",
        "#         This is the regularization strength for l1 or l2 \n",
        "        \n",
        "        \n",
        "#     dropout_prob: float\n",
        "#         This is the probability that dropout regularization will exclude a node from a training iteration. \n",
        "#         If this value is 0.0, that means that dropout will not be used. \n",
        "        \n",
        "#     maxnorm_wc: None or float\n",
        "#         If float, maxnorm_wc is the weight constraint that is used for Max Norm regularization\n",
        "#         If None, that means that Max Norm regularization will not be used.\n",
        "        \n",
        "        \n",
        "#     Return\n",
        "#     ------\n",
        "#     model: complied Keras model\n",
        "#     \"\"\"\n",
        "    \n",
        "#     if Lp_reg is not None:\n",
        "#         Lp_regularizer = Lp_reg(reg_penality)\n",
        "#     else:\n",
        "#         Lp_regularizer = None\n",
        "\n",
        "#     # instantiate Sequential class\n",
        "#     model = Sequential([\n",
        "\n",
        "#     # flatten images \n",
        "#     Flatten(input_shape=(28,28)),\n",
        "\n",
        "#     # hidden layer 1\n",
        "#     Dense(128,  kernel_regularizer=Lp_regularizer, kernel_constraint=maxnorm_wc), # remember that Keras refers to weight matrix as a kernel, i.e. weights = kernel\n",
        "#     # act func 1\n",
        "#     ReLU(negative_slope=0.01),\n",
        "#     Dropout(p_dropout),\n",
        "\n",
        "#     # output layer   \n",
        "#     Dense(N_labels, activation=\"softmax\")  \n",
        "\n",
        "#     ])\n",
        "#     # complie model \n",
        "#     model.compile(loss=\"sparse_categorical_crossentropy\", \n",
        "#                  optimizer=\"adam\", \n",
        "#                  metrics=[\"accuracy\"])\n",
        "    \n",
        "#     return model"
      ],
      "execution_count": 110,
      "outputs": []
    },
    {
      "cell_type": "markdown",
      "metadata": {
        "id": "WbxukerBppJA"
      },
      "source": [
        "Since we'll be using Sklearn's GridserchCV class, we need to wrap our Keras models in `KerasClassifier`"
      ]
    },
    {
      "cell_type": "code",
      "metadata": {
        "id": "96T2ozYeppJB"
      },
      "source": [
        "# remember to wrap KerasClassifier around build_model for sklearn's GridsearchCV compatibility \n",
        "model = KerasClassifier(build_fn = build_complex_model)"
      ],
      "execution_count": 111,
      "outputs": []
    },
    {
      "cell_type": "markdown",
      "metadata": {
        "id": "byqXA9lsppJB"
      },
      "source": [
        "-------\n",
        "\n",
        "# Experiment 1: Identify the relationship between model performance and L2 penalty strength\n",
        "\n",
        "![](https://www.researchgate.net/publication/334159821/figure/fig1/AS:776025558495234@1562030319993/Ridge-regression-variable-selection.png)\n",
        "\n",
        "We are going to run a gridsearch soley on the l2 regularization penalty value and see the effect this has on model performance. \n",
        "\n",
        "By running a gridseach on only a single hyperparameter (while using the same data and model) we can isolate the effect of that hyperparameter. "
      ]
    },
    {
      "cell_type": "code",
      "metadata": {
        "id": "j-UhKcXOppJB"
      },
      "source": [
        "# build out our hyperparameter dictionary \n",
        "hyper_parameters = {\n",
        "    # take note that Lp_reg penalty/strength values are in powers of 10 \n",
        "    \"reg_penality\": [1.0, 0.1, 0.01, 0.001, 0.0001, 0.00001], \n",
        "    # Since we only want to test l2, provide l2 as the sole option \n",
        "    \"Lp_reg\": [l2],\n",
        "    # default is 1, in order to change it we must provide value here because we can't provide a parameter value for model.fit() directly when using gridsearch\n",
        "    # protip: consider chanign epochs to 1 if the gridsearche run-time are too long for you\n",
        "    \"epochs\": [1] \n",
        "}"
      ],
      "execution_count": 112,
      "outputs": []
    },
    {
      "cell_type": "code",
      "metadata": {
        "colab": {
          "base_uri": "https://localhost:8080/"
        },
        "id": "KCw8LybmppJB",
        "outputId": "ffd63f25-c337-4019-8312-960bd979bb64"
      },
      "source": [
        "start=time()\n",
        "# Create and run Grid Search\n",
        "grid = GridSearchCV(estimator=model, \n",
        "                    param_grid=hyper_parameters, \n",
        "                    n_jobs=-3, \n",
        "                    verbose=1, \n",
        "                    cv=2)\n",
        "\n",
        "grid_result = grid.fit(X_train, y_train)\n",
        "end=time()"
      ],
      "execution_count": 113,
      "outputs": [
        {
          "output_type": "stream",
          "text": [
            "Fitting 2 folds for each of 6 candidates, totalling 12 fits\n"
          ],
          "name": "stdout"
        },
        {
          "output_type": "stream",
          "text": [
            "[Parallel(n_jobs=-3)]: Using backend SequentialBackend with 1 concurrent workers.\n"
          ],
          "name": "stderr"
        },
        {
          "output_type": "stream",
          "text": [
            "938/938 [==============================] - 10s 9ms/step - loss: 119.2819 - accuracy: 0.1566\n",
            "938/938 [==============================] - 4s 4ms/step - loss: 2.3030 - accuracy: 0.0987\n",
            "938/938 [==============================] - 9s 8ms/step - loss: 119.1768 - accuracy: 0.1458\n",
            "938/938 [==============================] - 4s 4ms/step - loss: 2.3032 - accuracy: 0.0973\n",
            "938/938 [==============================] - 9s 8ms/step - loss: 13.8239 - accuracy: 0.5450\n",
            "938/938 [==============================] - 4s 3ms/step - loss: 1.5138 - accuracy: 0.6447\n",
            "938/938 [==============================] - 9s 9ms/step - loss: 13.8897 - accuracy: 0.5690\n",
            "938/938 [==============================] - 4s 4ms/step - loss: 1.4635 - accuracy: 0.6511\n",
            "938/938 [==============================] - 9s 9ms/step - loss: 3.1997 - accuracy: 0.7156\n",
            "938/938 [==============================] - 5s 5ms/step - loss: 0.9339 - accuracy: 0.7820\n",
            "938/938 [==============================] - 14s 14ms/step - loss: 3.2843 - accuracy: 0.7072\n",
            "938/938 [==============================] - 4s 4ms/step - loss: 0.9449 - accuracy: 0.7597\n",
            "938/938 [==============================] - 9s 9ms/step - loss: 1.3263 - accuracy: 0.7498\n",
            "938/938 [==============================] - 4s 4ms/step - loss: 0.7496 - accuracy: 0.8223\n",
            "938/938 [==============================] - 9s 8ms/step - loss: 1.3132 - accuracy: 0.7430\n",
            "938/938 [==============================] - 4s 4ms/step - loss: 0.7084 - accuracy: 0.8390\n",
            "938/938 [==============================] - 9s 8ms/step - loss: 0.7976 - accuracy: 0.7498\n",
            "938/938 [==============================] - 4s 3ms/step - loss: 0.5069 - accuracy: 0.8468\n",
            "938/938 [==============================] - 9s 8ms/step - loss: 0.7909 - accuracy: 0.7512\n",
            "938/938 [==============================] - 4s 3ms/step - loss: 0.5127 - accuracy: 0.8459\n",
            "938/938 [==============================] - 9s 8ms/step - loss: 0.6985 - accuracy: 0.7538\n",
            "938/938 [==============================] - 4s 3ms/step - loss: 0.4549 - accuracy: 0.8376\n",
            "938/938 [==============================] - 9s 8ms/step - loss: 0.7000 - accuracy: 0.7517\n",
            "938/938 [==============================] - 4s 3ms/step - loss: 0.4305 - accuracy: 0.8530\n"
          ],
          "name": "stdout"
        },
        {
          "output_type": "stream",
          "text": [
            "[Parallel(n_jobs=-3)]: Done  12 out of  12 | elapsed:  3.0min finished\n"
          ],
          "name": "stderr"
        },
        {
          "output_type": "stream",
          "text": [
            "1875/1875 [==============================] - 16s 8ms/step - loss: 0.6980 - accuracy: 0.7873\n"
          ],
          "name": "stdout"
        }
      ]
    },
    {
      "cell_type": "code",
      "metadata": {
        "id": "fEd9XnLIppJB",
        "outputId": "8d72f7fb-6f19-4285-fa8f-cb0b4d3fe2ce",
        "colab": {
          "base_uri": "https://localhost:8080/"
        }
      },
      "source": [
        "print(\"Gridsearch runtime {0:.3} mins\".format( (end-start)/60 ))"
      ],
      "execution_count": 114,
      "outputs": [
        {
          "output_type": "stream",
          "text": [
            "Gridsearch runtime 3.23 mins\n"
          ],
          "name": "stdout"
        }
      ]
    },
    {
      "cell_type": "code",
      "metadata": {
        "id": "WJasJrxHppJC",
        "outputId": "a052e5f0-76fd-499f-cd9f-633ab772f4a7",
        "colab": {
          "base_uri": "https://localhost:8080/",
          "height": 283
        }
      },
      "source": [
        "# use the mean accuracy from the CV splits for determining best model score \n",
        "means = grid_result.cv_results_['mean_test_score']\n",
        "stds = grid_result.cv_results_['std_test_score']\n",
        "params = grid_result.cv_results_['params']\n",
        "\n",
        "# move l2 penalty values outside of dictionary and into a list\n",
        "param_values = [dic[\"reg_penality\"] for dic in params]\n",
        "\n",
        "# plot accuracy vs l2_reg_penalty\n",
        "plt.figure(figsize=(20,6))\n",
        "plt.grid()\n",
        "\n",
        "# this plot is using the std of the CV splits to plot error bars however those values are so small that they aren't visable\n",
        "plt.errorbar(param_values, means, yerr=stds, ecolor=\"orange\")\n",
        "plt.xscale(\"log\") # use a log scale for ease of reading, recall that l2_reg_penalty were in powers of 10 \n",
        "plt.title(\"L2 Regularization: Model Accuracy vs L2 Penalty Strength\")\n",
        "plt.ylabel(\"Validation Accuracy\", )\n",
        "plt.xlabel(\"L2 Penalty Strength usng a Log Scale\");"
      ],
      "execution_count": 115,
      "outputs": [
        {
          "output_type": "display_data",
          "data": {
            "image/png": "[encoded data removed]",
            "text/plain": [
              "<Figure size 1440x432 with 1 Axes>"
            ]
          },
          "metadata": {
            "tags": [],
            "needs_background": "light"
          }
        }
      ]
    },
    {
      "cell_type": "markdown",
      "metadata": {
        "id": "fn59UtHWppJC"
      },
      "source": [
        "### Observations\n",
        "\n",
        "Write down some observations. What do you notice from the plot?"
      ]
    },
    {
      "cell_type": "markdown",
      "metadata": {
        "deletable": false,
        "nbgrader": {
          "cell_type": "markdown",
          "checksum": "089b55b5a84d9c96c51fd341d9e6c74f",
          "grade": true,
          "grade_id": "cell-010212fc0915b976",
          "locked": false,
          "points": 0,
          "schema_version": 3,
          "solution": true,
          "task": false
        },
        "id": "Om8YuvobppJC"
      },
      "source": [
        "YOUR ANSWER HERE"
      ]
    },
    {
      "cell_type": "markdown",
      "metadata": {
        "id": "jnOA25vjppJC"
      },
      "source": [
        "\n",
        "## Compare Weights between Best and Worse Model \n",
        "\n",
        "Next, we are going to compare the hidden layer weights between the best and worse performing model while taking note of the respective l2 penalty strengths."
      ]
    },
    {
      "cell_type": "code",
      "metadata": {
        "id": "0kJtMfBqppJC"
      },
      "source": [
        "# get the best l2 penalty term \n",
        "best_lr_penalty = grid_result.best_params_[\"reg_penality\"]\n",
        "\n",
        "# get the best trained model \n",
        "best_model = grid_result.best_estimator_.build_fn(Lp_reg=l2, reg_penality=best_lr_penalty)\n",
        "\n",
        "# get the weights from the best trained model \n",
        "best_weights = best_model.get_weights()"
      ],
      "execution_count": 116,
      "outputs": []
    },
    {
      "cell_type": "code",
      "metadata": {
        "id": "tTN5M1dcppJC",
        "outputId": "f7363f5a-a143-4b88-a4f4-d7da034b1e01",
        "colab": {
          "base_uri": "https://localhost:8080/"
        }
      },
      "source": [
        "# train a model using the l2_reg_penalty value at scored the lowest \n",
        "worse_l2_reg_penalty = 1.0\n",
        "\n",
        "worse_model = build_complex_model(Lp_reg=l2, reg_penality=worse_l2_reg_penalty)\n",
        "\n",
        "# fit model \n",
        "worse_model.fit(X_train, y_train, epochs=1)\n",
        "\n",
        "# get weights from worse performing model \n",
        "worse_weights = worse_model.get_weights()"
      ],
      "execution_count": 117,
      "outputs": [
        {
          "output_type": "stream",
          "text": [
            "1875/1875 [==============================] - 16s 8ms/step - loss: 70.3515 - accuracy: 0.1291\n"
          ],
          "name": "stdout"
        }
      ]
    },
    {
      "cell_type": "markdown",
      "metadata": {
        "id": "L0dP7FQTppJD"
      },
      "source": [
        "-----\n",
        "## Understanding how Weights and Biases are stored"
      ]
    },
    {
      "cell_type": "markdown",
      "metadata": {
        "id": "srVaWNUpppJD"
      },
      "source": [
        "Let's take a minute to understand that`.get_weights()` returns a list with 8 elements (if you're using `build_complex_model`)."
      ]
    },
    {
      "cell_type": "code",
      "metadata": {
        "id": "waWd8kU6ppJD",
        "outputId": "aef084b8-a1f8-4617-e56d-0a176908acd6",
        "colab": {
          "base_uri": "https://localhost:8080/"
        }
      },
      "source": [
        "len(best_weights)"
      ],
      "execution_count": 118,
      "outputs": [
        {
          "output_type": "execute_result",
          "data": {
            "text/plain": [
              "8"
            ]
          },
          "metadata": {
            "tags": []
          },
          "execution_count": 118
        }
      ]
    },
    {
      "cell_type": "markdown",
      "metadata": {
        "id": "Y7KTl_Y6ppJD"
      },
      "source": [
        "There are **weights matrices and bias vectors between each layer** and we have 5 layers. \n",
        "\n",
        "- Input\n",
        "- Hidden 1\n",
        "- Hidden 2\n",
        "- Hidden 3\n",
        "- Output \n",
        "\n",
        "So that means we should have 4 weight matrices, but we see 8. **There are also 4 weight vectors for the biases between each layer.** So that accounts for the 8. \n",
        "\n",
        "\n",
        "#### Index for Weight Matrices \n",
        "If you index for a weight matrix, you can see its shape and that they are indeed matrices. \n",
        "\n",
        "Notice how you can see the dims of the layers that the matrices are sandwiched between?\n",
        "\n",
        "Input layer has 784 dims and hidden layer 1 has 500 dims. Given this understanding, the numbers you see in the shapes should make sense. "
      ]
    },
    {
      "cell_type": "code",
      "metadata": {
        "id": "2gvPZlYrppJD",
        "outputId": "c34e05ba-75cf-49a5-d524-5b6ed27b3399",
        "colab": {
          "base_uri": "https://localhost:8080/"
        }
      },
      "source": [
        "# bewteen input and 1st hidden layer\n",
        "best_weights[0].shape"
      ],
      "execution_count": 119,
      "outputs": [
        {
          "output_type": "execute_result",
          "data": {
            "text/plain": [
              "(784, 500)"
            ]
          },
          "metadata": {
            "tags": []
          },
          "execution_count": 119
        }
      ]
    },
    {
      "cell_type": "code",
      "metadata": {
        "id": "367KvirKppJE",
        "outputId": "16afa948-9aff-4faf-b783-ee9600241626",
        "colab": {
          "base_uri": "https://localhost:8080/"
        }
      },
      "source": [
        "# bewteen 1st and 2nd hidden layer\n",
        "best_weights[2].shape"
      ],
      "execution_count": 120,
      "outputs": [
        {
          "output_type": "execute_result",
          "data": {
            "text/plain": [
              "(500, 250)"
            ]
          },
          "metadata": {
            "tags": []
          },
          "execution_count": 120
        }
      ]
    },
    {
      "cell_type": "code",
      "metadata": {
        "id": "xlFvklUvppJF",
        "outputId": "def5e972-8cd1-4934-ec59-0f78880203ca",
        "colab": {
          "base_uri": "https://localhost:8080/"
        }
      },
      "source": [
        "# bewteen 2st and 3nd hidden layer\n",
        "best_weights[4].shape"
      ],
      "execution_count": 121,
      "outputs": [
        {
          "output_type": "execute_result",
          "data": {
            "text/plain": [
              "(250, 100)"
            ]
          },
          "metadata": {
            "tags": []
          },
          "execution_count": 121
        }
      ]
    },
    {
      "cell_type": "code",
      "metadata": {
        "id": "FJjg3z_NppJF",
        "outputId": "bd50763f-4e36-4346-84bc-dd05bb2fae41",
        "colab": {
          "base_uri": "https://localhost:8080/"
        }
      },
      "source": [
        "# bewteen 3rd hidden layer and output layer\n",
        "best_weights[6].shape"
      ],
      "execution_count": 122,
      "outputs": [
        {
          "output_type": "execute_result",
          "data": {
            "text/plain": [
              "(100, 10)"
            ]
          },
          "metadata": {
            "tags": []
          },
          "execution_count": 122
        }
      ]
    },
    {
      "cell_type": "markdown",
      "metadata": {
        "id": "EO5R9T0ZppJF"
      },
      "source": [
        "#### Index for the bias vectors\n",
        "\n",
        "The shapes of the bias vectors should exactly match up the dims/nodes of each layer (excluding the input layer). "
      ]
    },
    {
      "cell_type": "code",
      "metadata": {
        "id": "YVLimyFfppJF",
        "outputId": "b471202c-d45f-435a-b378-13f3653b1574",
        "colab": {
          "base_uri": "https://localhost:8080/"
        }
      },
      "source": [
        "# for hidden layer 1 \n",
        "best_weights[1].shape"
      ],
      "execution_count": 123,
      "outputs": [
        {
          "output_type": "execute_result",
          "data": {
            "text/plain": [
              "(500,)"
            ]
          },
          "metadata": {
            "tags": []
          },
          "execution_count": 123
        }
      ]
    },
    {
      "cell_type": "code",
      "metadata": {
        "id": "oley9upJppJF",
        "outputId": "7c24009a-4fd2-4e4f-c323-70cf2e4b1188",
        "colab": {
          "base_uri": "https://localhost:8080/"
        }
      },
      "source": [
        "# for hidden layer 2 \n",
        "best_weights[3].shape"
      ],
      "execution_count": 124,
      "outputs": [
        {
          "output_type": "execute_result",
          "data": {
            "text/plain": [
              "(250,)"
            ]
          },
          "metadata": {
            "tags": []
          },
          "execution_count": 124
        }
      ]
    },
    {
      "cell_type": "code",
      "metadata": {
        "id": "0XxlMpV5ppJF",
        "outputId": "3d5c785b-3852-4df3-e9bf-a40eaee81ed4",
        "colab": {
          "base_uri": "https://localhost:8080/"
        }
      },
      "source": [
        "# for hidden layer 3\n",
        "best_weights[5].shape"
      ],
      "execution_count": 125,
      "outputs": [
        {
          "output_type": "execute_result",
          "data": {
            "text/plain": [
              "(100,)"
            ]
          },
          "metadata": {
            "tags": []
          },
          "execution_count": 125
        }
      ]
    },
    {
      "cell_type": "code",
      "metadata": {
        "id": "0M52L4xMppJG",
        "outputId": "bd0d3d9e-a336-4665-dd72-ce795fa67561",
        "colab": {
          "base_uri": "https://localhost:8080/"
        }
      },
      "source": [
        "# for output layer\n",
        "best_weights[7].shape"
      ],
      "execution_count": 126,
      "outputs": [
        {
          "output_type": "execute_result",
          "data": {
            "text/plain": [
              "(10,)"
            ]
          },
          "metadata": {
            "tags": []
          },
          "execution_count": 126
        }
      ]
    },
    {
      "cell_type": "markdown",
      "metadata": {
        "id": "aByn0K84ppJG"
      },
      "source": [
        "-----\n",
        "\n",
        "### Back to our Analysis of L2 space regularization (also known as Ridge)\n",
        "\n",
        "Let's do a comparison of the first weight matrix (between the input and 1st hidden layer) for the best and worse performing model as well as with the initial weight values that are randomly sampled from the GlorotUniform distribution.\n",
        "\n",
        "[**Check out the Keras docs for the Dense layer**](https://keras.io/api/layers/core_layers/dense/), you'll see that GlorotUniform is the default weight initializer. "
      ]
    },
    {
      "cell_type": "markdown",
      "metadata": {
        "id": "0ZMYTMQmppJG"
      },
      "source": [
        "Before we compare weights, let's take note of the following. \n",
        "\n",
        "Both `best_weights[0]` or `worse_weights[0]` are matrices with shape `(784, 500)`. \n",
        "\n",
        "If we flatten them, then we get `784 * 500 = 392000` weights. What does this mean exactly?\n",
        "\n",
        "Remember that we are working with the Fully Connected Forward Feeding model which looks something like this. \n",
        "\n",
        "![](https://pyimagesearch.com/wp-content/uploads/2016/08/simple_neural_network_header.jpg)\n",
        "\n",
        "The important thing to notice is that in `Fully Connected` models, each component in the input vectors gets passed to all the nodes in next layer. This means for our input vector with 784 dims, there are 784 **$w_1$** weights, each with a slightly different value, one for each of the 784 components in the input vector. \n",
        "\n",
        "So to keep our analysis simple, we are going to just analyze one column of the weight matrix. You could index for whatever column you want, but this notebook will assume that you have indexed for the weights in column one. This means that we will compare the affect that regularization had on all of the 784 **$w_1$** weights that exist in 500 dimensional space of hidden layer 1. \n",
        "\n",
        "In other words, by looking at just one column, we are narrowing our analysis to the distribution of values for w_1 oppose to mixing together the distributions of all the weights w_1, w_2, ..., w_500. This is done for simplicity of analysis, the goal being to empirically observe the affect of regularization on the weights. "
      ]
    },
    {
      "cell_type": "code",
      "metadata": {
        "deletable": false,
        "nbgrader": {
          "cell_type": "code",
          "checksum": "a3f75126a80a74dd71fb0a9ab2b8b89f",
          "grade": false,
          "grade_id": "cell-7882876b8973bc7b",
          "locked": false,
          "schema_version": 3,
          "solution": true,
          "task": false
        },
        "id": "LLWoRBBdppJG"
      },
      "source": [
        "# index for the 1st column in the 1st hidden layer weights in best_weights and save to best_hidden_weights\n",
        "\n",
        "# index for the 1st column in the 1st hidden layer weights in worse_weights and save to worse_hidden_weights\n",
        "\n",
        "# Keras models randomly samples from the GlorotUniform distribution for the initial values of model weights \n",
        "# instantiate GlorotUniform and sample 500 weights and save to initial_weight_values\n",
        "# hint: use shape=(500,1)\n",
        "\n",
        "# lastly, flatten all of the above 3 variables so that you go from a matrix to a vector \n",
        "# otherwise, pandas will not like you and throw a fit \n",
        "\n",
        "# YOUR CODE HERE\n",
        "best_hidden_weights_flatten = best_weights[0]\n",
        "\n",
        "worse_hidden_weights_flatten = worse_weights[0]\n",
        "\n",
        "initializer = GlorotUniform()\n",
        "initial_weight_values_1 = initializer(shape=(500,1))\n",
        "initial_weight_values = tf.reshape(initial_weight_values_1, [-1]).numpy()\n",
        "\n",
        "best_hidden_weights = best_hidden_weights_flatten.flatten()\n",
        "worse_hidden_weights = worse_hidden_weights_flatten.flatten()"
      ],
      "execution_count": 127,
      "outputs": []
    },
    {
      "cell_type": "code",
      "metadata": {
        "id": "_gZVhM7NppJG"
      },
      "source": [
        "# move all weights to a dataframe for ease of analysis \n",
        "cols = [\"best_hidden_weights\", \"worse_hidden_weights\", \"initial_weight_values\"]\n",
        "data = [best_hidden_weights, worse_hidden_weights, initial_weight_values]\n",
        "df = pd.DataFrame(data=data).T\n",
        "df.columns = cols"
      ],
      "execution_count": 128,
      "outputs": []
    },
    {
      "cell_type": "code",
      "metadata": {
        "id": "mqeAM6oYppJH",
        "outputId": "7fb60dd7-cfdf-49b7-fdff-bae072cc8b29",
        "colab": {
          "base_uri": "https://localhost:8080/",
          "height": 297
        }
      },
      "source": [
        "# check out the statistics for each weight column \n",
        "df.describe()"
      ],
      "execution_count": 129,
      "outputs": [
        {
          "output_type": "execute_result",
          "data": {
            "text/html": [
              "<div>\n",
              "<style scoped>\n",
              "    .dataframe tbody tr th:only-of-type {\n",
              "        vertical-align: middle;\n",
              "    }\n",
              "\n",
              "    .dataframe tbody tr th {\n",
              "        vertical-align: top;\n",
              "    }\n",
              "\n",
              "    .dataframe thead th {\n",
              "        text-align: right;\n",
              "    }\n",
              "</style>\n",
              "<table border=\"1\" class=\"dataframe\">\n",
              "  <thead>\n",
              "    <tr style=\"text-align: right;\">\n",
              "      <th></th>\n",
              "      <th>best_hidden_weights</th>\n",
              "      <th>worse_hidden_weights</th>\n",
              "      <th>initial_weight_values</th>\n",
              "    </tr>\n",
              "  </thead>\n",
              "  <tbody>\n",
              "    <tr>\n",
              "      <th>count</th>\n",
              "      <td>392000.000000</td>\n",
              "      <td>3.920000e+05</td>\n",
              "      <td>500.000000</td>\n",
              "    </tr>\n",
              "    <tr>\n",
              "      <th>mean</th>\n",
              "      <td>-0.000094</td>\n",
              "      <td>-6.203234e-10</td>\n",
              "      <td>0.001119</td>\n",
              "    </tr>\n",
              "    <tr>\n",
              "      <th>std</th>\n",
              "      <td>0.039398</td>\n",
              "      <td>1.388253e-06</td>\n",
              "      <td>0.063191</td>\n",
              "    </tr>\n",
              "    <tr>\n",
              "      <th>min</th>\n",
              "      <td>-0.068359</td>\n",
              "      <td>-2.094227e-04</td>\n",
              "      <td>-0.109072</td>\n",
              "    </tr>\n",
              "    <tr>\n",
              "      <th>25%</th>\n",
              "      <td>-0.034146</td>\n",
              "      <td>-4.955721e-12</td>\n",
              "      <td>-0.055269</td>\n",
              "    </tr>\n",
              "    <tr>\n",
              "      <th>50%</th>\n",
              "      <td>-0.000242</td>\n",
              "      <td>-1.040116e-16</td>\n",
              "      <td>-0.001297</td>\n",
              "    </tr>\n",
              "    <tr>\n",
              "      <th>75%</th>\n",
              "      <td>0.034043</td>\n",
              "      <td>1.461508e-13</td>\n",
              "      <td>0.054423</td>\n",
              "    </tr>\n",
              "    <tr>\n",
              "      <th>max</th>\n",
              "      <td>0.068358</td>\n",
              "      <td>2.828358e-04</td>\n",
              "      <td>0.109088</td>\n",
              "    </tr>\n",
              "  </tbody>\n",
              "</table>\n",
              "</div>"
            ],
            "text/plain": [
              "       best_hidden_weights  worse_hidden_weights  initial_weight_values\n",
              "count        392000.000000          3.920000e+05             500.000000\n",
              "mean             -0.000094         -6.203234e-10               0.001119\n",
              "std               0.039398          1.388253e-06               0.063191\n",
              "min              -0.068359         -2.094227e-04              -0.109072\n",
              "25%              -0.034146         -4.955721e-12              -0.055269\n",
              "50%              -0.000242         -1.040116e-16              -0.001297\n",
              "75%               0.034043          1.461508e-13               0.054423\n",
              "max               0.068358          2.828358e-04               0.109088"
            ]
          },
          "metadata": {
            "tags": []
          },
          "execution_count": 129
        }
      ]
    },
    {
      "cell_type": "code",
      "metadata": {
        "id": "3oQ2Ye73ppJH",
        "outputId": "ecacfbd4-9ca8-4cd2-cc4c-8b7f642e7f1f",
        "colab": {
          "base_uri": "https://localhost:8080/",
          "height": 488
        }
      },
      "source": [
        "# plot the distributions for each weight column \n",
        "df.hist(figsize=(20,12));"
      ],
      "execution_count": 130,
      "outputs": [
        {
          "output_type": "display_data",
          "data": {
            "image/png": "[encoded data removed]",
            "text/plain": [
              "<Figure size 1440x864 with 4 Axes>"
            ]
          },
          "metadata": {
            "tags": [],
            "needs_background": "light"
          }
        }
      ]
    },
    {
      "cell_type": "markdown",
      "metadata": {
        "id": "ea77hUeyppJH"
      },
      "source": [
        "## Observations \n",
        "\n",
        "Take a look at the statistical table and the plots. Then answer the following questions. \n",
        "\n",
        "**How do the hidden layer weights from the best performing model compare to the initial weight values?**"
      ]
    },
    {
      "cell_type": "markdown",
      "metadata": {
        "deletable": false,
        "nbgrader": {
          "cell_type": "markdown",
          "checksum": "5eacb66f89b216ae3b4bb3c4b7bd6d38",
          "grade": true,
          "grade_id": "cell-6add7cc400c4c716",
          "locked": false,
          "points": 0,
          "schema_version": 3,
          "solution": true,
          "task": false
        },
        "id": "nekTo0cBppJH"
      },
      "source": [
        "YOUR ANSWER HERE"
      ]
    },
    {
      "cell_type": "markdown",
      "metadata": {
        "id": "UwbRrffXppJH"
      },
      "source": [
        "**What was the effect of using a small l2 penalty value?**"
      ]
    },
    {
      "cell_type": "markdown",
      "metadata": {
        "deletable": false,
        "nbgrader": {
          "cell_type": "markdown",
          "checksum": "92ac1689b72d727ab7f4d261c5e76daa",
          "grade": true,
          "grade_id": "cell-5b4f11bba2d49639",
          "locked": false,
          "points": 0,
          "schema_version": 3,
          "solution": true,
          "task": false
        },
        "id": "aWwX_6GyppJH"
      },
      "source": [
        "YOUR ANSWER HERE"
      ]
    },
    {
      "cell_type": "markdown",
      "metadata": {
        "id": "Qrv7a1d0ppJI"
      },
      "source": [
        "**What was the effect of using a large l2 penalty value?**"
      ]
    },
    {
      "cell_type": "markdown",
      "metadata": {
        "deletable": false,
        "nbgrader": {
          "cell_type": "markdown",
          "checksum": "3048a6d2805f61d6fb58372c42c3ac54",
          "grade": true,
          "grade_id": "cell-0a30b62e5e119555",
          "locked": false,
          "points": 0,
          "schema_version": 3,
          "solution": true,
          "task": false
        },
        "id": "JDWKUPOtppJI"
      },
      "source": [
        "YOUR ANSWER HERE"
      ]
    },
    {
      "cell_type": "markdown",
      "metadata": {
        "id": "KEZXeA5oppJI"
      },
      "source": [
        "**Given what you know about L2 regularization, are you surprised by these results?**"
      ]
    },
    {
      "cell_type": "markdown",
      "metadata": {
        "deletable": false,
        "nbgrader": {
          "cell_type": "markdown",
          "checksum": "d8a2034f67badfe53f601873f7026dc0",
          "grade": true,
          "grade_id": "cell-c04d067161064011",
          "locked": false,
          "points": 0,
          "schema_version": 3,
          "solution": true,
          "task": false
        },
        "id": "pSiAFonmppJI"
      },
      "source": [
        "YOUR ANSWER HERE"
      ]
    },
    {
      "cell_type": "markdown",
      "metadata": {
        "id": "L4-NUG8_ppJI"
      },
      "source": [
        "----\n",
        "\n",
        "# Experiment 2: Identify the relationship between model performance and Max Norm Weight Constraint\n",
        "\n",
        "![](https://qph.fs.quoracdn.net/main-qimg-9d0dbf8074761b541ba80543ddfc9f73.webp)\n",
        "\n",
        "Recall from lecture that the **Norm** of a vector is just another word for the **length** of a vector.\n",
        "\n",
        "MaxNorm weight constraint puts a limit on the length of a weight vector.\n",
        "\n",
        "$$ \\text{Max_value_of_norm} >= {\\displaystyle \\left\\|x\\right\\|_{p}=\\left(|x_{1}|^{p}+|x_{2}|^{p}+\\dotsb +|x_{n}|^{p}\\right)^{1/p}.}$$  \n",
        "\n",
        "The effect that Lp regularization and Max Norm Weight Constraint have on the weights should be the same, but they go about it in different ways. \n",
        "\n",
        "Lp regularization (l1/Lasso and l2/Ridge) shrink the value of the weights. Where as Max Norm Weight Constraint puts a limit on how big the weight vector can be which, in effect, keeps the individual weight values small enough to keep the norm below that limit. \n",
        "\n",
        "In this experiment, we are going to run another gridseach but instead of using Lp space regularization as we did in the previous experiment, we are going to use MaxNorm and see what kind of effect that this type of regularization has on model performance and the learned weights. "
      ]
    },
    {
      "cell_type": "markdown",
      "metadata": {
        "id": "vDIVkdLEppJI"
      },
      "source": [
        "Since we already built our model, we just need to update the `hyper_parameters` dictionary. "
      ]
    },
    {
      "cell_type": "code",
      "metadata": {
        "id": "nDrzyfLeppJJ",
        "outputId": "0944b9a9-2692-4c63-85ee-a6a07de0e825",
        "colab": {
          "base_uri": "https://localhost:8080/"
        }
      },
      "source": [
        "# build out our hyperparameter dictionary \n",
        "hyper_parameters = {\n",
        "    \n",
        "    \"maxnorm_wc\": np.linspace(0.5, 10.0, num=20), \n",
        "    # default is 1, in order to change it we must provide value here because we can't provide a parameter value for model.fit() directly when using gridsearch\n",
        "    # protip: consider changing epochs to 1 if the gridsearche run-time are too long for you    \n",
        "    \"epochs\": [1] \n",
        "}\n",
        "\n",
        "hyper_parameters"
      ],
      "execution_count": 131,
      "outputs": [
        {
          "output_type": "execute_result",
          "data": {
            "text/plain": [
              "{'epochs': [1],\n",
              " 'maxnorm_wc': array([ 0.5,  1. ,  1.5,  2. ,  2.5,  3. ,  3.5,  4. ,  4.5,  5. ,  5.5,\n",
              "         6. ,  6.5,  7. ,  7.5,  8. ,  8.5,  9. ,  9.5, 10. ])}"
            ]
          },
          "metadata": {
            "tags": []
          },
          "execution_count": 131
        }
      ]
    },
    {
      "cell_type": "code",
      "metadata": {
        "id": "WNDQEYQwppJJ",
        "outputId": "058d9c58-25d7-4946-efed-e7ff73c896ca",
        "colab": {
          "base_uri": "https://localhost:8080/"
        }
      },
      "source": [
        "start=time()\n",
        "# Create and run Grid Search\n",
        "grid = GridSearchCV(estimator=model, \n",
        "                    param_grid=hyper_parameters, \n",
        "                    n_jobs=-2, \n",
        "                    verbose=1, \n",
        "                    cv=2)\n",
        "\n",
        "grid_result = grid.fit(X_train, y_train)\n",
        "end=time()"
      ],
      "execution_count": 132,
      "outputs": [
        {
          "output_type": "stream",
          "text": [
            "Fitting 2 folds for each of 20 candidates, totalling 40 fits\n"
          ],
          "name": "stdout"
        },
        {
          "output_type": "stream",
          "text": [
            "[Parallel(n_jobs=-2)]: Using backend SequentialBackend with 1 concurrent workers.\n"
          ],
          "name": "stderr"
        },
        {
          "output_type": "stream",
          "text": [
            "938/938 [==============================] - 8s 8ms/step - loss: 0.7996 - accuracy: 0.7125\n",
            "938/938 [==============================] - 3s 3ms/step - loss: 0.5762 - accuracy: 0.7883\n",
            "938/938 [==============================] - 8s 8ms/step - loss: 0.8063 - accuracy: 0.7052\n",
            "938/938 [==============================] - 3s 3ms/step - loss: 0.4974 - accuracy: 0.8063\n",
            "938/938 [==============================] - 8s 8ms/step - loss: 0.7034 - accuracy: 0.7497\n",
            "938/938 [==============================] - 3s 3ms/step - loss: 0.4425 - accuracy: 0.8428\n",
            "938/938 [==============================] - 9s 8ms/step - loss: 0.7070 - accuracy: 0.7438\n",
            "938/938 [==============================] - 3s 3ms/step - loss: 0.4407 - accuracy: 0.8383\n",
            "938/938 [==============================] - 9s 8ms/step - loss: 0.6879 - accuracy: 0.7559\n",
            "938/938 [==============================] - 3s 3ms/step - loss: 0.4907 - accuracy: 0.8214\n",
            "938/938 [==============================] - 9s 8ms/step - loss: 0.6977 - accuracy: 0.7425\n",
            "938/938 [==============================] - 3s 3ms/step - loss: 0.4040 - accuracy: 0.8553\n",
            "938/938 [==============================] - 9s 8ms/step - loss: 0.6846 - accuracy: 0.7546\n",
            "938/938 [==============================] - 3s 3ms/step - loss: 0.4208 - accuracy: 0.8482\n",
            "938/938 [==============================] - 9s 8ms/step - loss: 0.6982 - accuracy: 0.7485\n",
            "938/938 [==============================] - 3s 3ms/step - loss: 0.4477 - accuracy: 0.8406\n",
            "938/938 [==============================] - 9s 8ms/step - loss: 0.6759 - accuracy: 0.7576\n",
            "938/938 [==============================] - 4s 3ms/step - loss: 0.4718 - accuracy: 0.8321\n",
            "938/938 [==============================] - 10s 8ms/step - loss: 0.6831 - accuracy: 0.7541\n",
            "938/938 [==============================] - 3s 3ms/step - loss: 0.4674 - accuracy: 0.8263\n",
            "938/938 [==============================] - 9s 8ms/step - loss: 0.7010 - accuracy: 0.7488\n",
            "938/938 [==============================] - 3s 3ms/step - loss: 0.4118 - accuracy: 0.8484\n",
            "938/938 [==============================] - 9s 9ms/step - loss: 0.6917 - accuracy: 0.7554\n",
            "938/938 [==============================] - 3s 3ms/step - loss: 0.4360 - accuracy: 0.8412\n",
            "938/938 [==============================] - 9s 8ms/step - loss: 0.6800 - accuracy: 0.7569\n",
            "938/938 [==============================] - 3s 3ms/step - loss: 0.4327 - accuracy: 0.8433\n",
            "938/938 [==============================] - 9s 9ms/step - loss: 0.6704 - accuracy: 0.7569\n",
            "938/938 [==============================] - 4s 3ms/step - loss: 0.4210 - accuracy: 0.8477\n",
            "938/938 [==============================] - 9s 9ms/step - loss: 0.6746 - accuracy: 0.7611\n",
            "938/938 [==============================] - 4s 3ms/step - loss: 0.4791 - accuracy: 0.8201\n",
            "938/938 [==============================] - 9s 8ms/step - loss: 0.6898 - accuracy: 0.7540\n",
            "938/938 [==============================] - 3s 3ms/step - loss: 0.4415 - accuracy: 0.8461\n",
            "938/938 [==============================] - 9s 8ms/step - loss: 0.6937 - accuracy: 0.7528\n",
            "938/938 [==============================] - 3s 3ms/step - loss: 0.4495 - accuracy: 0.8354\n",
            "938/938 [==============================] - 9s 8ms/step - loss: 0.6960 - accuracy: 0.7501\n",
            "938/938 [==============================] - 3s 3ms/step - loss: 0.4204 - accuracy: 0.8438\n",
            "938/938 [==============================] - 9s 8ms/step - loss: 0.6872 - accuracy: 0.7553\n",
            "938/938 [==============================] - 3s 3ms/step - loss: 0.4370 - accuracy: 0.8378\n",
            "938/938 [==============================] - 9s 8ms/step - loss: 0.6837 - accuracy: 0.7544\n",
            "938/938 [==============================] - 3s 3ms/step - loss: 0.4531 - accuracy: 0.8332\n",
            "938/938 [==============================] - 8s 8ms/step - loss: 0.6825 - accuracy: 0.7555\n",
            "938/938 [==============================] - 3s 3ms/step - loss: 0.4410 - accuracy: 0.8355\n",
            "938/938 [==============================] - 9s 8ms/step - loss: 0.6826 - accuracy: 0.7543\n",
            "938/938 [==============================] - 3s 3ms/step - loss: 0.4324 - accuracy: 0.8454\n",
            "938/938 [==============================] - 9s 8ms/step - loss: 0.6793 - accuracy: 0.7583\n",
            "938/938 [==============================] - 3s 3ms/step - loss: 0.4118 - accuracy: 0.8496\n",
            "938/938 [==============================] - 9s 9ms/step - loss: 0.6847 - accuracy: 0.7562\n",
            "938/938 [==============================] - 3s 3ms/step - loss: 0.4419 - accuracy: 0.8386\n",
            "938/938 [==============================] - 9s 8ms/step - loss: 0.6823 - accuracy: 0.7549\n",
            "938/938 [==============================] - 4s 3ms/step - loss: 0.4248 - accuracy: 0.8390\n",
            "938/938 [==============================] - 9s 8ms/step - loss: 0.7035 - accuracy: 0.7473\n",
            "938/938 [==============================] - 3s 3ms/step - loss: 0.4543 - accuracy: 0.8339\n",
            "938/938 [==============================] - 9s 8ms/step - loss: 0.6957 - accuracy: 0.7482\n",
            "938/938 [==============================] - 3s 3ms/step - loss: 0.4254 - accuracy: 0.8450\n",
            "938/938 [==============================] - 9s 8ms/step - loss: 0.7006 - accuracy: 0.7463\n",
            "938/938 [==============================] - 3s 3ms/step - loss: 0.4278 - accuracy: 0.8438\n",
            "938/938 [==============================] - 8s 8ms/step - loss: 0.6899 - accuracy: 0.7545\n",
            "938/938 [==============================] - 3s 3ms/step - loss: 0.4262 - accuracy: 0.8394\n",
            "938/938 [==============================] - 9s 8ms/step - loss: 0.7184 - accuracy: 0.7478\n",
            "938/938 [==============================] - 3s 3ms/step - loss: 0.4729 - accuracy: 0.8294\n",
            "938/938 [==============================] - 9s 8ms/step - loss: 0.6870 - accuracy: 0.7533\n",
            "938/938 [==============================] - 3s 3ms/step - loss: 0.4255 - accuracy: 0.8449\n",
            "938/938 [==============================] - 9s 8ms/step - loss: 0.6805 - accuracy: 0.7561\n",
            "938/938 [==============================] - 3s 3ms/step - loss: 0.4380 - accuracy: 0.8426\n",
            "938/938 [==============================] - 13s 12ms/step - loss: 0.7025 - accuracy: 0.7480\n",
            "938/938 [==============================] - 3s 3ms/step - loss: 0.4378 - accuracy: 0.8398\n",
            "938/938 [==============================] - 9s 8ms/step - loss: 0.6950 - accuracy: 0.7493\n",
            "938/938 [==============================] - 3s 3ms/step - loss: 0.4136 - accuracy: 0.8476\n",
            "938/938 [==============================] - 9s 9ms/step - loss: 0.6987 - accuracy: 0.7496\n",
            "938/938 [==============================] - 3s 3ms/step - loss: 0.4389 - accuracy: 0.8343\n",
            "938/938 [==============================] - 9s 8ms/step - loss: 0.6877 - accuracy: 0.7476\n",
            "938/938 [==============================] - 3s 3ms/step - loss: 0.4334 - accuracy: 0.8447\n",
            "938/938 [==============================] - 9s 8ms/step - loss: 0.6899 - accuracy: 0.7514\n",
            "938/938 [==============================] - 4s 3ms/step - loss: 0.4230 - accuracy: 0.8425\n",
            "938/938 [==============================] - 9s 8ms/step - loss: 0.6832 - accuracy: 0.7538\n",
            "938/938 [==============================] - 3s 3ms/step - loss: 0.4665 - accuracy: 0.8217\n",
            "938/938 [==============================] - 9s 8ms/step - loss: 0.6886 - accuracy: 0.7514\n",
            "938/938 [==============================] - 3s 3ms/step - loss: 0.4637 - accuracy: 0.8324\n",
            "938/938 [==============================] - 9s 8ms/step - loss: 0.6856 - accuracy: 0.7478\n",
            "938/938 [==============================] - 3s 3ms/step - loss: 0.4648 - accuracy: 0.8292\n"
          ],
          "name": "stdout"
        },
        {
          "output_type": "stream",
          "text": [
            "[Parallel(n_jobs=-2)]: Done  40 out of  40 | elapsed:  9.5min finished\n"
          ],
          "name": "stderr"
        },
        {
          "output_type": "stream",
          "text": [
            "1875/1875 [==============================] - 16s 8ms/step - loss: 0.6001 - accuracy: 0.7874\n"
          ],
          "name": "stdout"
        }
      ]
    },
    {
      "cell_type": "code",
      "metadata": {
        "id": "g_V6FuSFppJJ",
        "outputId": "a2519a21-d1ae-4fed-c87c-a136ba7db674",
        "colab": {
          "base_uri": "https://localhost:8080/"
        }
      },
      "source": [
        "print(\"Gridsearch runtime {0:.3} mins\".format( (end-start)/60 ))"
      ],
      "execution_count": 133,
      "outputs": [
        {
          "output_type": "stream",
          "text": [
            "Gridsearch runtime 9.78 mins\n"
          ],
          "name": "stdout"
        }
      ]
    },
    {
      "cell_type": "code",
      "metadata": {
        "id": "7g9BhgkMppJJ",
        "outputId": "db546034-040e-4d9d-ee8b-dc1717925fd6",
        "colab": {
          "base_uri": "https://localhost:8080/",
          "height": 279
        }
      },
      "source": [
        "# use the mean accuracy from the CV splits for determining best model score \n",
        "means = grid.cv_results_['mean_test_score']\n",
        "stds = grid.cv_results_['std_test_score']\n",
        "params = grid.cv_results_['params']\n",
        "\n",
        "# move l2 penalty values outside of dictionary and into a list\n",
        "param_values = [dic[\"maxnorm_wc\"] for dic in params]\n",
        "\n",
        "# plot accuracy vs l2_reg_penalty\n",
        "plt.figure(figsize=(20,6))\n",
        "plt.grid()\n",
        "plt.errorbar(param_values, means, yerr=stds, ecolor=\"orange\")\n",
        "plt.title(\"L1 Regularization: Model Accuracy vs L1 Penalty Strength\")\n",
        "plt.ylabel(\"Validation Accuracy\", )\n",
        "plt.xlabel(\"Max Norm for Weight Vector \");"
      ],
      "execution_count": 134,
      "outputs": [
        {
          "output_type": "display_data",
          "data": {
            "image/png": "[encoded data removed]",
            "text/plain": [
              "<Figure size 1440x432 with 1 Axes>"
            ]
          },
          "metadata": {
            "tags": [],
            "needs_background": "light"
          }
        }
      ]
    },
    {
      "cell_type": "code",
      "metadata": {
        "deletable": false,
        "nbgrader": {
          "cell_type": "code",
          "checksum": "cfe7bd54a7a14ba7ee63c88d6d1828b4",
          "grade": false,
          "grade_id": "cell-f67372e0b9b30614",
          "locked": false,
          "schema_version": 3,
          "solution": true,
          "task": false
        },
        "id": "nbNGwDVeppJJ",
        "outputId": "723a8fa5-2bb8-4605-d63f-899ea36efe6a",
        "colab": {
          "base_uri": "https://localhost:8080/"
        }
      },
      "source": [
        "# get the best l2 penalty term from grid and save to best_max_norm_val\n",
        "\n",
        "# get the best trained model from grid and save to best_model\n",
        "\n",
        "# get the weights from the best trained model and save to best_weights\n",
        "\n",
        "# YOUR CODE HERE\n",
        "best_max_norm_val = grid.best_params_['maxnorm_wc']\n",
        "best_model\n",
        "best_weights"
      ],
      "execution_count": 135,
      "outputs": [
        {
          "output_type": "execute_result",
          "data": {
            "text/plain": [
              "[array([[-0.03654239,  0.04685353,  0.02663375, ..., -0.04626968,\n",
              "         -0.00554561,  0.01032668],\n",
              "        [-0.00047735,  0.04274285,  0.02074275, ...,  0.0147927 ,\n",
              "          0.05533151,  0.00799981],\n",
              "        [-0.04201074,  0.03930853,  0.05371219, ...,  0.0293176 ,\n",
              "         -0.03822377, -0.01383268],\n",
              "        ...,\n",
              "        [-0.03840356, -0.06707228, -0.04928278, ..., -0.00721247,\n",
              "          0.05920853, -0.02155162],\n",
              "        [-0.02362071, -0.05627273, -0.01345452, ...,  0.05894416,\n",
              "         -0.02582076,  0.00991464],\n",
              "        [-0.00924948, -0.01134525,  0.03963186, ...,  0.06544494,\n",
              "          0.04445091, -0.04958944]], dtype=float32),\n",
              " array([0., 0., 0., 0., 0., 0., 0., 0., 0., 0., 0., 0., 0., 0., 0., 0., 0.,\n",
              "        0., 0., 0., 0., 0., 0., 0., 0., 0., 0., 0., 0., 0., 0., 0., 0., 0.,\n",
              "        0., 0., 0., 0., 0., 0., 0., 0., 0., 0., 0., 0., 0., 0., 0., 0., 0.,\n",
              "        0., 0., 0., 0., 0., 0., 0., 0., 0., 0., 0., 0., 0., 0., 0., 0., 0.,\n",
              "        0., 0., 0., 0., 0., 0., 0., 0., 0., 0., 0., 0., 0., 0., 0., 0., 0.,\n",
              "        0., 0., 0., 0., 0., 0., 0., 0., 0., 0., 0., 0., 0., 0., 0., 0., 0.,\n",
              "        0., 0., 0., 0., 0., 0., 0., 0., 0., 0., 0., 0., 0., 0., 0., 0., 0.,\n",
              "        0., 0., 0., 0., 0., 0., 0., 0., 0., 0., 0., 0., 0., 0., 0., 0., 0.,\n",
              "        0., 0., 0., 0., 0., 0., 0., 0., 0., 0., 0., 0., 0., 0., 0., 0., 0.,\n",
              "        0., 0., 0., 0., 0., 0., 0., 0., 0., 0., 0., 0., 0., 0., 0., 0., 0.,\n",
              "        0., 0., 0., 0., 0., 0., 0., 0., 0., 0., 0., 0., 0., 0., 0., 0., 0.,\n",
              "        0., 0., 0., 0., 0., 0., 0., 0., 0., 0., 0., 0., 0., 0., 0., 0., 0.,\n",
              "        0., 0., 0., 0., 0., 0., 0., 0., 0., 0., 0., 0., 0., 0., 0., 0., 0.,\n",
              "        0., 0., 0., 0., 0., 0., 0., 0., 0., 0., 0., 0., 0., 0., 0., 0., 0.,\n",
              "        0., 0., 0., 0., 0., 0., 0., 0., 0., 0., 0., 0., 0., 0., 0., 0., 0.,\n",
              "        0., 0., 0., 0., 0., 0., 0., 0., 0., 0., 0., 0., 0., 0., 0., 0., 0.,\n",
              "        0., 0., 0., 0., 0., 0., 0., 0., 0., 0., 0., 0., 0., 0., 0., 0., 0.,\n",
              "        0., 0., 0., 0., 0., 0., 0., 0., 0., 0., 0., 0., 0., 0., 0., 0., 0.,\n",
              "        0., 0., 0., 0., 0., 0., 0., 0., 0., 0., 0., 0., 0., 0., 0., 0., 0.,\n",
              "        0., 0., 0., 0., 0., 0., 0., 0., 0., 0., 0., 0., 0., 0., 0., 0., 0.,\n",
              "        0., 0., 0., 0., 0., 0., 0., 0., 0., 0., 0., 0., 0., 0., 0., 0., 0.,\n",
              "        0., 0., 0., 0., 0., 0., 0., 0., 0., 0., 0., 0., 0., 0., 0., 0., 0.,\n",
              "        0., 0., 0., 0., 0., 0., 0., 0., 0., 0., 0., 0., 0., 0., 0., 0., 0.,\n",
              "        0., 0., 0., 0., 0., 0., 0., 0., 0., 0., 0., 0., 0., 0., 0., 0., 0.,\n",
              "        0., 0., 0., 0., 0., 0., 0., 0., 0., 0., 0., 0., 0., 0., 0., 0., 0.,\n",
              "        0., 0., 0., 0., 0., 0., 0., 0., 0., 0., 0., 0., 0., 0., 0., 0., 0.,\n",
              "        0., 0., 0., 0., 0., 0., 0., 0., 0., 0., 0., 0., 0., 0., 0., 0., 0.,\n",
              "        0., 0., 0., 0., 0., 0., 0., 0., 0., 0., 0., 0., 0., 0., 0., 0., 0.,\n",
              "        0., 0., 0., 0., 0., 0., 0., 0., 0., 0., 0., 0., 0., 0., 0., 0., 0.,\n",
              "        0., 0., 0., 0., 0., 0., 0.], dtype=float32),\n",
              " array([[ 0.03365302, -0.05325207, -0.0724125 , ...,  0.04142804,\n",
              "         -0.04236388,  0.03258976],\n",
              "        [-0.06865665,  0.05322636,  0.08806557, ...,  0.08686771,\n",
              "          0.00278289, -0.07237855],\n",
              "        [ 0.01158792, -0.01594665,  0.07200863, ...,  0.06402803,\n",
              "          0.03480117,  0.06470252],\n",
              "        ...,\n",
              "        [-0.02257024, -0.01862311,  0.02713136, ..., -0.01092564,\n",
              "          0.08703854,  0.04762986],\n",
              "        [-0.00485626,  0.08698621, -0.08177172, ..., -0.085775  ,\n",
              "          0.01501153,  0.06145319],\n",
              "        [ 0.08648518, -0.0673466 ,  0.00080042, ..., -0.03409246,\n",
              "          0.07999615, -0.06192127]], dtype=float32),\n",
              " array([0., 0., 0., 0., 0., 0., 0., 0., 0., 0., 0., 0., 0., 0., 0., 0., 0.,\n",
              "        0., 0., 0., 0., 0., 0., 0., 0., 0., 0., 0., 0., 0., 0., 0., 0., 0.,\n",
              "        0., 0., 0., 0., 0., 0., 0., 0., 0., 0., 0., 0., 0., 0., 0., 0., 0.,\n",
              "        0., 0., 0., 0., 0., 0., 0., 0., 0., 0., 0., 0., 0., 0., 0., 0., 0.,\n",
              "        0., 0., 0., 0., 0., 0., 0., 0., 0., 0., 0., 0., 0., 0., 0., 0., 0.,\n",
              "        0., 0., 0., 0., 0., 0., 0., 0., 0., 0., 0., 0., 0., 0., 0., 0., 0.,\n",
              "        0., 0., 0., 0., 0., 0., 0., 0., 0., 0., 0., 0., 0., 0., 0., 0., 0.,\n",
              "        0., 0., 0., 0., 0., 0., 0., 0., 0., 0., 0., 0., 0., 0., 0., 0., 0.,\n",
              "        0., 0., 0., 0., 0., 0., 0., 0., 0., 0., 0., 0., 0., 0., 0., 0., 0.,\n",
              "        0., 0., 0., 0., 0., 0., 0., 0., 0., 0., 0., 0., 0., 0., 0., 0., 0.,\n",
              "        0., 0., 0., 0., 0., 0., 0., 0., 0., 0., 0., 0., 0., 0., 0., 0., 0.,\n",
              "        0., 0., 0., 0., 0., 0., 0., 0., 0., 0., 0., 0., 0., 0., 0., 0., 0.,\n",
              "        0., 0., 0., 0., 0., 0., 0., 0., 0., 0., 0., 0., 0., 0., 0., 0., 0.,\n",
              "        0., 0., 0., 0., 0., 0., 0., 0., 0., 0., 0., 0., 0., 0., 0., 0., 0.,\n",
              "        0., 0., 0., 0., 0., 0., 0., 0., 0., 0., 0., 0.], dtype=float32),\n",
              " array([[ 0.10769854,  0.11082412, -0.10809241, ...,  0.10116582,\n",
              "         -0.02199012,  0.02912214],\n",
              "        [ 0.06588782, -0.09314035,  0.04260597, ...,  0.09942083,\n",
              "         -0.12098821, -0.11080095],\n",
              "        [-0.11668891,  0.01675946, -0.12508264, ..., -0.10181262,\n",
              "          0.09802465, -0.0006799 ],\n",
              "        ...,\n",
              "        [-0.05656999,  0.00725371, -0.08891382, ..., -0.00961588,\n",
              "         -0.1077366 ,  0.08751124],\n",
              "        [ 0.08751911,  0.04088576, -0.1067659 , ..., -0.01885341,\n",
              "         -0.08545963,  0.02757615],\n",
              "        [ 0.07090782, -0.06903084, -0.12478552, ...,  0.06620657,\n",
              "         -0.06732883,  0.02276014]], dtype=float32),\n",
              " array([0., 0., 0., 0., 0., 0., 0., 0., 0., 0., 0., 0., 0., 0., 0., 0., 0.,\n",
              "        0., 0., 0., 0., 0., 0., 0., 0., 0., 0., 0., 0., 0., 0., 0., 0., 0.,\n",
              "        0., 0., 0., 0., 0., 0., 0., 0., 0., 0., 0., 0., 0., 0., 0., 0., 0.,\n",
              "        0., 0., 0., 0., 0., 0., 0., 0., 0., 0., 0., 0., 0., 0., 0., 0., 0.,\n",
              "        0., 0., 0., 0., 0., 0., 0., 0., 0., 0., 0., 0., 0., 0., 0., 0., 0.,\n",
              "        0., 0., 0., 0., 0., 0., 0., 0., 0., 0., 0., 0., 0., 0., 0.],\n",
              "       dtype=float32),\n",
              " array([[ 1.47217393e-01,  1.86874598e-01, -1.99793115e-01,\n",
              "         -8.26738328e-02, -1.40755653e-01,  4.74503636e-02,\n",
              "         -1.53929770e-01, -1.12603106e-01, -5.95380366e-03,\n",
              "         -5.16198725e-02],\n",
              "        [ 5.15225530e-03,  8.15242529e-04, -2.31708825e-01,\n",
              "         -7.45860934e-02, -7.12770224e-03,  1.75563455e-01,\n",
              "          1.03966504e-01,  7.53086209e-02, -9.48931277e-03,\n",
              "         -1.51259005e-01],\n",
              "        [-5.20241261e-02, -2.11000130e-01, -1.69425011e-01,\n",
              "         -1.26926720e-01, -2.30986223e-01,  2.24479228e-01,\n",
              "         -2.14959323e-01,  6.08595014e-02, -1.30772278e-01,\n",
              "          1.65374368e-01],\n",
              "        [-1.77554891e-01, -2.87508667e-02, -1.13325477e-01,\n",
              "         -1.96691155e-01,  3.28110158e-02,  1.60871387e-01,\n",
              "         -2.00890630e-01, -1.81201369e-01, -2.12397426e-01,\n",
              "          1.39074445e-01],\n",
              "        [-1.88515455e-01,  2.65333056e-02,  1.07544631e-01,\n",
              "         -2.21149847e-01,  1.03819072e-02,  7.25909472e-02,\n",
              "          8.85689855e-02, -1.42230302e-01, -7.45098740e-02,\n",
              "          2.13095069e-01],\n",
              "        [-1.99010611e-01, -1.10251293e-01,  5.02572656e-02,\n",
              "          1.68029666e-01,  1.26574636e-01,  1.18902802e-01,\n",
              "          1.90994650e-01, -5.29855937e-02, -2.00674519e-01,\n",
              "         -8.51773173e-02],\n",
              "        [ 9.65494812e-02,  1.25105947e-01, -1.79883093e-02,\n",
              "          1.30224228e-03, -1.40005782e-01,  4.03821468e-03,\n",
              "         -1.51642889e-01, -6.82209581e-02,  1.73403859e-01,\n",
              "          1.49471253e-01],\n",
              "        [-8.83437693e-03, -2.24271685e-01,  4.59531248e-02,\n",
              "          1.79694265e-01,  1.54916286e-01,  1.03127420e-01,\n",
              "         -7.48637915e-02, -1.70318320e-01,  1.50547504e-01,\n",
              "          2.25018859e-02],\n",
              "        [-1.17572695e-02, -4.22204286e-02, -1.01169914e-01,\n",
              "         -4.54097092e-02,  1.17769241e-02,  1.54548138e-02,\n",
              "         -1.96366027e-01,  1.68669492e-01,  9.08803940e-02,\n",
              "         -1.38605982e-01],\n",
              "        [-1.22969918e-01, -1.36023194e-01, -2.23591775e-02,\n",
              "          1.00022286e-01, -1.49907976e-01,  2.28229612e-01,\n",
              "         -7.52165914e-04, -8.80237520e-02, -2.24384606e-01,\n",
              "         -1.69613659e-02],\n",
              "        [-2.08733976e-02, -8.70991945e-02,  2.27071196e-01,\n",
              "          2.05543846e-01, -6.00928664e-02, -7.04858005e-02,\n",
              "         -2.20268548e-01, -6.59805238e-02,  1.13686472e-01,\n",
              "         -3.12111527e-02],\n",
              "        [-7.31006265e-04, -1.54123753e-02, -1.76289782e-01,\n",
              "         -1.74038976e-01,  4.57650125e-02, -4.18135524e-02,\n",
              "          1.34124815e-01, -2.18450576e-02, -1.31525666e-01,\n",
              "          1.48061395e-01],\n",
              "        [ 2.05401480e-01,  6.47372305e-02,  1.13591075e-01,\n",
              "          7.51191378e-03, -2.16568887e-01, -9.17599499e-02,\n",
              "         -6.84318393e-02, -7.38422871e-02, -1.42491668e-01,\n",
              "          1.43023938e-01],\n",
              "        [ 1.64878011e-01,  1.72229707e-02,  1.14186943e-01,\n",
              "          1.50677115e-02, -1.96509913e-01, -1.48354560e-01,\n",
              "         -4.55840528e-02, -1.95625722e-01,  1.31712317e-01,\n",
              "          2.25591958e-02],\n",
              "        [ 1.27891362e-01, -5.28174341e-02, -2.22240448e-01,\n",
              "          1.55188024e-01,  1.19313091e-01,  2.32977927e-01,\n",
              "         -2.15068966e-01,  1.42077684e-01, -3.65024954e-02,\n",
              "         -2.04071105e-02],\n",
              "        [-1.08146772e-01,  1.89611793e-01,  4.25993502e-02,\n",
              "         -1.42126948e-01, -1.76902682e-01,  7.11261034e-02,\n",
              "          1.52166963e-01,  1.96508914e-01,  3.92903090e-02,\n",
              "          8.08869302e-02],\n",
              "        [-3.25039327e-02, -4.57109511e-03, -1.59634560e-01,\n",
              "         -1.49427772e-01,  1.68886662e-01,  2.10031807e-01,\n",
              "          1.48020357e-01, -1.78377718e-01,  1.58153355e-01,\n",
              "         -8.37532282e-02],\n",
              "        [-7.41280466e-02, -1.84506804e-01,  1.11270070e-01,\n",
              "          9.01385844e-02,  5.86611629e-02, -1.21233121e-01,\n",
              "          1.28687978e-01,  1.39558107e-01, -1.68083444e-01,\n",
              "         -1.97335675e-01],\n",
              "        [-1.42694980e-01,  1.04671001e-01,  1.71691746e-01,\n",
              "          1.26412660e-01, -9.40693170e-02,  1.28403366e-01,\n",
              "         -2.28901356e-01, -2.16235846e-01, -3.57120186e-02,\n",
              "          5.95050156e-02],\n",
              "        [-1.81229830e-01,  2.03140527e-01, -2.28391424e-01,\n",
              "          1.71378970e-01, -7.62506723e-02, -1.09649643e-01,\n",
              "          3.27785015e-02, -6.11393154e-02,  9.73008573e-03,\n",
              "         -3.04122120e-02],\n",
              "        [-1.91286206e-03,  1.70645952e-01, -4.27751988e-02,\n",
              "         -9.29176807e-04, -4.31917608e-02, -1.41773149e-01,\n",
              "         -6.36819005e-03,  2.31060624e-01, -3.47747803e-02,\n",
              "          7.58983195e-02],\n",
              "        [-1.22361138e-01,  1.36267185e-01, -1.16598777e-01,\n",
              "          1.96480393e-01, -1.32280320e-01,  2.26930916e-01,\n",
              "         -1.01580843e-01,  1.57167554e-01,  2.21834838e-01,\n",
              "          2.22479373e-01],\n",
              "        [-1.23849146e-01,  6.13856912e-02, -3.64291668e-03,\n",
              "          1.56328231e-02, -1.18407458e-01, -1.80515811e-01,\n",
              "          1.50325835e-01,  1.53329074e-01,  5.14510274e-02,\n",
              "          3.69946063e-02],\n",
              "        [-1.53878778e-02, -1.55147314e-02, -3.32042426e-02,\n",
              "          1.38360143e-01,  1.76948309e-03, -2.28803575e-01,\n",
              "         -1.25347167e-01,  1.58784181e-01, -1.72217607e-01,\n",
              "          1.78846061e-01],\n",
              "        [ 2.10651517e-01,  1.83854192e-01, -6.70893341e-02,\n",
              "          5.34340739e-02,  1.77208811e-01,  1.06441319e-01,\n",
              "          1.33256555e-01, -7.76205212e-02, -2.03428864e-01,\n",
              "         -5.28355390e-02],\n",
              "        [-1.76220179e-01, -1.15998350e-01, -1.62268400e-01,\n",
              "          1.96630180e-01,  2.05991715e-01, -4.02973145e-02,\n",
              "          9.95706022e-02, -4.39286232e-04, -1.49674341e-01,\n",
              "         -7.27209002e-02],\n",
              "        [ 6.42641187e-02,  8.07987750e-02,  9.91289318e-02,\n",
              "         -2.20838636e-01,  1.97381288e-01, -4.50690389e-02,\n",
              "          1.88143760e-01, -2.08095059e-01, -5.64900041e-03,\n",
              "          2.23632723e-01],\n",
              "        [ 8.46732855e-02, -2.56991237e-02, -2.14400604e-01,\n",
              "         -9.44608748e-02,  8.74298513e-02,  2.23732293e-01,\n",
              "          1.17667258e-01, -1.36930555e-01,  1.55867070e-01,\n",
              "         -3.41048539e-02],\n",
              "        [-3.06712985e-02, -9.04738456e-02,  9.67332423e-02,\n",
              "         -5.66879362e-02, -4.71784025e-02,  1.98248416e-01,\n",
              "         -1.17286287e-01,  2.86444724e-02, -9.35699642e-02,\n",
              "         -2.16366038e-01],\n",
              "        [-9.93724763e-02, -1.00191504e-01,  2.09824175e-01,\n",
              "         -1.89855561e-01, -2.31283158e-02,  1.78344071e-01,\n",
              "         -2.04473078e-01,  9.07407403e-02,  5.69579303e-02,\n",
              "          1.15787297e-01],\n",
              "        [-2.07755402e-01,  6.82803690e-02,  6.31478429e-02,\n",
              "         -4.42019999e-02,  2.30185688e-03,  1.32200867e-01,\n",
              "          7.25388527e-03, -1.56820312e-01,  2.20205307e-01,\n",
              "         -2.12273255e-01],\n",
              "        [-9.13025141e-02, -1.15420528e-01, -5.26160300e-02,\n",
              "         -2.21152455e-01,  1.32356435e-01, -4.90255654e-02,\n",
              "         -1.62762478e-01, -2.21101120e-01,  1.46193892e-01,\n",
              "         -9.62388217e-02],\n",
              "        [-7.31397420e-02,  6.10450506e-02,  1.30732119e-01,\n",
              "          1.40215248e-01, -3.22377086e-02, -7.83486664e-03,\n",
              "         -1.97710142e-01, -2.05103785e-01,  1.62510693e-01,\n",
              "         -1.34110212e-01],\n",
              "        [-2.17217818e-01, -6.79779649e-02, -1.15756854e-01,\n",
              "         -7.57052004e-02, -2.04717070e-02,  1.50024205e-01,\n",
              "          1.73944533e-02,  1.67507231e-01, -8.53653252e-03,\n",
              "         -9.42653865e-02],\n",
              "        [ 3.47776711e-03,  1.23054683e-02, -6.95485473e-02,\n",
              "         -5.85516840e-02,  5.85247874e-02,  1.14524752e-01,\n",
              "         -8.79622847e-02, -1.91076294e-01,  2.23248899e-01,\n",
              "          6.52841032e-02],\n",
              "        [-1.58506632e-02, -1.82344586e-01, -2.31769845e-01,\n",
              "          1.06718063e-01, -3.96928340e-02, -2.26744831e-01,\n",
              "          2.22416282e-01, -1.34839326e-01, -2.10822895e-01,\n",
              "          7.68387318e-02],\n",
              "        [-1.10743530e-01,  1.19478732e-01,  2.16133356e-01,\n",
              "         -2.00720131e-01, -5.41084409e-02, -1.10400245e-01,\n",
              "          1.23903781e-01,  1.81800187e-01,  2.13413537e-02,\n",
              "          2.14947760e-01],\n",
              "        [-1.27627715e-01, -1.90266445e-01,  9.33788717e-02,\n",
              "          2.27636576e-01, -2.15354562e-01, -2.09616646e-01,\n",
              "         -1.83304846e-01,  1.83583200e-02,  1.69937521e-01,\n",
              "         -1.06179222e-01],\n",
              "        [-1.08915299e-01, -1.53332740e-01,  1.11364543e-01,\n",
              "          1.12020105e-01, -1.28454715e-02, -2.47492939e-02,\n",
              "          1.36896640e-01, -1.07745245e-01, -7.65763223e-03,\n",
              "         -6.74934685e-03],\n",
              "        [-4.73450571e-02,  5.21151721e-02, -9.88252312e-02,\n",
              "          2.32636929e-02,  3.49599719e-02, -1.19047970e-01,\n",
              "         -3.68116945e-02, -7.56593049e-03,  1.74549580e-01,\n",
              "         -1.89930499e-02],\n",
              "        [-5.52672148e-03,  2.28797555e-01,  7.68738091e-02,\n",
              "          1.56479597e-01, -1.09476022e-01, -1.96532071e-01,\n",
              "          1.35444999e-01, -2.03050718e-01,  1.77936435e-01,\n",
              "          1.98333740e-01],\n",
              "        [-2.10350588e-01,  1.75620407e-01,  2.84226835e-02,\n",
              "          1.34606481e-01,  3.45799923e-02, -1.96850240e-01,\n",
              "         -1.64875686e-01,  5.09379208e-02,  1.63780451e-01,\n",
              "         -5.82390279e-02],\n",
              "        [-8.37426484e-02,  9.45591629e-02, -2.22568527e-01,\n",
              "          2.25461274e-01, -1.03175268e-01, -2.20047995e-01,\n",
              "         -5.41528165e-02, -4.08478528e-02,  9.78413224e-02,\n",
              "          1.84687376e-02],\n",
              "        [-1.95870727e-01, -1.88476697e-01, -9.34815407e-03,\n",
              "          2.11819887e-01, -8.42231363e-02,  3.34692001e-03,\n",
              "         -7.81521797e-02, -2.22096831e-01, -1.04917288e-01,\n",
              "          1.35133177e-01],\n",
              "        [ 4.06424403e-02, -1.50194466e-01, -6.26081079e-02,\n",
              "          1.87070638e-01, -1.40271559e-01,  2.13747174e-01,\n",
              "         -9.77006555e-02,  1.77638471e-01,  5.80866933e-02,\n",
              "         -1.81457236e-01],\n",
              "        [-1.41407311e-01, -2.20412776e-01,  1.40035063e-01,\n",
              "          1.34198874e-01,  2.28136450e-01, -1.18909881e-01,\n",
              "         -4.36985791e-02, -1.09642625e-01, -1.86000466e-02,\n",
              "         -9.89239514e-02],\n",
              "        [-1.68177381e-01, -8.59559178e-02,  9.81669426e-02,\n",
              "          1.93658471e-02, -3.24202329e-02,  1.32684141e-01,\n",
              "         -1.17327772e-01,  9.52955782e-02, -1.20365977e-01,\n",
              "         -8.57756734e-02],\n",
              "        [ 3.64238620e-02,  1.14195734e-01,  1.50486469e-01,\n",
              "          2.32788891e-01,  2.21565962e-01, -1.82669282e-01,\n",
              "          1.00043297e-01, -2.10159272e-01, -2.12190181e-01,\n",
              "          1.00750297e-01],\n",
              "        [ 8.91718268e-02, -2.88427472e-02,  1.58994555e-01,\n",
              "         -8.71331692e-02,  3.27111781e-02,  2.07678556e-01,\n",
              "          7.60747790e-02, -5.81381917e-02,  1.75575763e-01,\n",
              "          1.61298424e-01],\n",
              "        [ 1.23894811e-01, -2.21690804e-01, -2.20740020e-01,\n",
              "          1.83953494e-01,  2.00447619e-01,  1.54655427e-01,\n",
              "          7.21008778e-02, -1.48225754e-01, -1.77237943e-01,\n",
              "         -3.78583670e-02],\n",
              "        [ 1.19278997e-01,  6.84893131e-02,  1.77900612e-01,\n",
              "          5.67188263e-02, -1.14063993e-01,  1.83080941e-01,\n",
              "         -1.39884740e-01,  1.38657540e-01, -5.11905551e-02,\n",
              "         -1.55260414e-01],\n",
              "        [-5.84686100e-02,  1.98631257e-01, -1.10561892e-01,\n",
              "          2.18333423e-01,  2.10018456e-02, -8.59594941e-02,\n",
              "          9.36776400e-03, -1.20249934e-01,  7.72317946e-02,\n",
              "          1.62245512e-01],\n",
              "        [ 1.94361806e-02, -3.97805274e-02,  2.15938896e-01,\n",
              "          2.03449458e-01, -8.57211649e-03, -7.69401938e-02,\n",
              "         -1.06146097e-01,  1.11723542e-01, -1.95286721e-01,\n",
              "         -5.58058023e-02],\n",
              "        [-2.01332361e-01, -1.18832871e-01,  8.56965780e-05,\n",
              "         -3.04589272e-02,  1.79274917e-01,  1.09092534e-01,\n",
              "          3.68213952e-02, -3.64969820e-02,  2.63521671e-02,\n",
              "          1.38608605e-01],\n",
              "        [ 5.30393422e-03, -9.23199952e-02, -1.47590578e-01,\n",
              "          3.80043685e-02,  1.11393452e-01, -1.80484623e-01,\n",
              "          2.10286945e-01,  2.08888143e-01,  3.53702009e-02,\n",
              "         -1.70482978e-01],\n",
              "        [-1.63264126e-02,  2.05872476e-01, -1.17459238e-01,\n",
              "         -1.52093023e-01,  8.96690786e-03,  1.07206792e-01,\n",
              "          1.24949723e-01, -2.10060537e-01,  1.39333755e-01,\n",
              "         -1.09905839e-01],\n",
              "        [-1.67076975e-01,  1.34653002e-01,  1.41281188e-01,\n",
              "          1.01303726e-01,  1.27570808e-01,  1.13345742e-01,\n",
              "          1.12535268e-01,  2.16165572e-01,  6.33460581e-02,\n",
              "         -7.52895921e-02],\n",
              "        [ 4.31996584e-03, -2.03208357e-01, -8.71865153e-02,\n",
              "          1.83554858e-01,  1.85971558e-02, -5.25234938e-02,\n",
              "         -5.12426198e-02,  3.61048579e-02, -7.75225759e-02,\n",
              "         -2.08132982e-01],\n",
              "        [ 7.32796788e-02, -1.96101472e-01,  4.08320427e-02,\n",
              "          3.15590501e-02, -1.03067622e-01,  2.42789388e-02,\n",
              "          2.03133404e-01,  2.01758951e-01, -1.78018391e-01,\n",
              "          1.76394254e-01],\n",
              "        [ 9.23817456e-02, -2.59952545e-02,  9.75480378e-02,\n",
              "          9.70923901e-02, -1.29191220e-01,  1.25653923e-01,\n",
              "          1.52926862e-01,  1.67458057e-02, -9.40950960e-02,\n",
              "         -8.61785412e-02],\n",
              "        [-9.80879366e-02,  2.06841081e-01,  7.09691942e-02,\n",
              "         -1.40620768e-02,  1.13669693e-01,  1.61175787e-01,\n",
              "         -1.92309543e-01,  7.43232667e-02, -1.40028223e-01,\n",
              "          5.12658954e-02],\n",
              "        [ 1.14498764e-01, -8.96869302e-02, -1.84952825e-01,\n",
              "          3.81186604e-03, -1.28763407e-01,  1.22373044e-01,\n",
              "          2.79509723e-02, -2.00902432e-01,  1.01334661e-01,\n",
              "          1.55507863e-01],\n",
              "        [-1.30062655e-01, -1.89601928e-01, -1.03263631e-01,\n",
              "          5.35668731e-02,  2.31902212e-01, -2.17785940e-01,\n",
              "          4.76119518e-02,  1.48516476e-01, -1.51626736e-01,\n",
              "          5.60813844e-02],\n",
              "        [-1.72831446e-01, -7.30604529e-02,  1.44528389e-01,\n",
              "         -8.89705271e-02, -6.24841601e-02,  6.69545829e-02,\n",
              "         -1.78380832e-01, -2.32012957e-01,  1.91132426e-01,\n",
              "          3.42312157e-02],\n",
              "        [-1.14511512e-01, -1.80473715e-01, -3.37589085e-02,\n",
              "         -9.91864949e-02, -3.80623937e-02, -9.09219235e-02,\n",
              "          3.44510376e-02, -1.17608964e-01,  1.08192146e-01,\n",
              "          6.39004409e-02],\n",
              "        [-5.18200547e-02, -1.05121478e-01, -1.75537065e-01,\n",
              "         -1.86233848e-01, -3.44754308e-02, -2.26743206e-01,\n",
              "         -2.27110043e-01,  1.57267153e-02, -8.35246593e-02,\n",
              "          9.57498252e-02],\n",
              "        [-1.71001658e-01,  1.30905956e-01, -1.32035166e-01,\n",
              "          1.10491514e-01, -2.88922936e-02,  1.76627100e-01,\n",
              "         -1.96886048e-01, -2.20656827e-01,  2.17440099e-01,\n",
              "         -2.00399950e-01],\n",
              "        [ 1.05071872e-01, -7.08934665e-03, -9.52962935e-02,\n",
              "         -1.35149702e-01,  2.28137612e-01,  1.24806672e-01,\n",
              "         -5.96975833e-02,  3.36084068e-02, -2.19573796e-01,\n",
              "         -1.98307127e-01],\n",
              "        [-2.78870016e-02,  5.26539087e-02,  1.22946590e-01,\n",
              "          2.43591964e-02, -3.93057168e-02, -2.27157936e-01,\n",
              "          2.13026106e-02, -2.25997016e-01,  1.22119874e-01,\n",
              "          6.91218674e-02],\n",
              "        [-2.11798176e-01, -5.08606434e-04, -2.10636079e-01,\n",
              "          5.15161455e-02,  1.22222215e-01,  9.41242874e-02,\n",
              "         -5.36908209e-02, -3.65473181e-02,  4.51534390e-02,\n",
              "         -9.57610160e-02],\n",
              "        [-2.55204439e-02, -9.92519855e-02,  2.83196568e-04,\n",
              "         -2.21367180e-02, -3.81677896e-02, -6.46269917e-02,\n",
              "          1.70520246e-02,  1.05209410e-01, -1.55119821e-01,\n",
              "          3.06147337e-02],\n",
              "        [-1.96389467e-01, -2.29544386e-01, -1.93932697e-01,\n",
              "          1.35012329e-01, -1.35378957e-01,  4.20525372e-02,\n",
              "         -3.68607044e-03, -1.55423284e-01, -1.85699165e-02,\n",
              "          7.51487017e-02],\n",
              "        [ 9.41587985e-02, -9.38750952e-02, -8.89476985e-02,\n",
              "          5.32012582e-02, -1.31931692e-01, -6.60646558e-02,\n",
              "         -1.97871178e-01,  2.27246642e-01, -1.65021122e-01,\n",
              "          3.39300036e-02],\n",
              "        [-2.08146170e-01,  6.51797652e-03, -8.47114772e-02,\n",
              "          9.81428325e-02,  1.70911223e-01, -1.28903344e-01,\n",
              "         -1.39037639e-01, -2.07474023e-01,  1.92276806e-01,\n",
              "          1.00447267e-01],\n",
              "        [ 1.02033377e-01, -3.55895162e-02, -1.50771350e-01,\n",
              "         -5.11047542e-02, -1.40525550e-02, -1.16668344e-02,\n",
              "          2.29139239e-01,  1.58585161e-02, -1.12436943e-01,\n",
              "          2.28501886e-01],\n",
              "        [-5.72623312e-03,  1.25782937e-01,  1.55101448e-01,\n",
              "         -3.36022675e-03,  1.33903593e-01,  6.53462410e-02,\n",
              "          3.27874720e-02, -1.93815380e-01,  8.56560171e-02,\n",
              "         -6.56758249e-02],\n",
              "        [-3.65281105e-02,  1.31839931e-01,  1.43880665e-01,\n",
              "         -6.85932040e-02,  1.07458472e-01, -1.61071122e-01,\n",
              "          1.08069539e-01,  4.83616590e-02, -1.97519317e-01,\n",
              "         -1.91370741e-01],\n",
              "        [-7.35095292e-02, -1.88551694e-01,  1.53454453e-01,\n",
              "          2.01705664e-01,  4.92910445e-02, -1.07531995e-02,\n",
              "         -1.42612562e-01,  5.73927760e-02,  3.61255109e-02,\n",
              "         -1.30459905e-01],\n",
              "        [-9.81574804e-02, -1.51319593e-01, -7.85982609e-03,\n",
              "         -1.39981002e-01,  4.56057489e-02,  1.79902464e-01,\n",
              "         -1.86859503e-01, -1.40177220e-01, -8.50652754e-02,\n",
              "         -9.72969830e-03],\n",
              "        [ 4.00315523e-02, -1.49456620e-01,  1.22218996e-01,\n",
              "          4.10031974e-02, -2.23097116e-01,  4.67701852e-02,\n",
              "          2.61813402e-04,  2.06327796e-01, -2.67674029e-02,\n",
              "         -1.03033662e-01],\n",
              "        [-8.14136714e-02, -1.48100749e-01,  1.53134733e-01,\n",
              "         -1.58737957e-01, -7.75601566e-02, -2.09703833e-01,\n",
              "          1.51881307e-01, -1.11609101e-02, -2.32964009e-01,\n",
              "         -2.20216826e-01],\n",
              "        [ 3.70354950e-02, -1.81833595e-01, -2.82459855e-02,\n",
              "         -1.78088546e-02,  2.02744454e-01, -2.24586293e-01,\n",
              "          5.37183285e-02, -7.30923563e-02,  1.50662541e-01,\n",
              "          1.58938855e-01],\n",
              "        [-1.80741489e-01, -9.04307961e-02,  1.41789347e-01,\n",
              "         -1.11739911e-01, -2.08282039e-01, -1.99173152e-01,\n",
              "         -6.81437850e-02,  1.09015405e-03,  7.12830722e-02,\n",
              "          5.13446331e-02],\n",
              "        [ 4.24064696e-02,  1.87307298e-01, -9.23692733e-02,\n",
              "         -1.79155201e-01, -2.10675165e-01,  1.42580211e-01,\n",
              "         -2.27964938e-01, -2.08307981e-01,  4.36275899e-02,\n",
              "         -1.91805780e-01],\n",
              "        [-2.65705585e-03, -2.52292752e-02, -7.56317675e-02,\n",
              "          7.28990734e-02,  2.30837286e-01, -1.27505034e-01,\n",
              "         -1.81908265e-01,  6.23099804e-02,  2.01379001e-01,\n",
              "         -7.76165724e-02],\n",
              "        [ 1.17627442e-01, -1.06035009e-01,  6.62809908e-02,\n",
              "         -8.48433375e-02, -2.13057935e-01,  2.11411297e-01,\n",
              "         -1.37470454e-01, -1.80636808e-01,  1.18333578e-01,\n",
              "          2.23027170e-01],\n",
              "        [-1.65803805e-01, -8.45544487e-02, -1.87994808e-01,\n",
              "         -1.39556423e-01, -2.00106218e-01, -1.02998808e-01,\n",
              "         -1.07866243e-01, -2.87939608e-02, -2.27328777e-01,\n",
              "         -2.01752260e-01],\n",
              "        [ 9.20763910e-02, -7.43631423e-02,  2.14315146e-01,\n",
              "         -2.06581160e-01, -2.07553819e-01, -1.91219509e-01,\n",
              "         -1.89018995e-02, -1.60961151e-01, -8.09998959e-02,\n",
              "          9.48709846e-02],\n",
              "        [ 2.24479735e-02,  1.87426478e-01,  1.76845282e-01,\n",
              "          1.16350919e-01, -8.72530043e-03, -1.74842417e-01,\n",
              "         -4.70212102e-02, -1.87238872e-01,  1.40337437e-01,\n",
              "         -1.83587983e-01],\n",
              "        [-1.28694147e-01,  9.93348360e-02, -1.62177861e-01,\n",
              "          2.18480140e-01,  1.63339466e-01,  6.42341375e-02,\n",
              "         -1.96034208e-01, -2.21490279e-01,  1.59898549e-01,\n",
              "         -5.81905246e-02],\n",
              "        [ 1.23430490e-02,  8.40873420e-02, -6.24464601e-02,\n",
              "         -1.94538906e-01, -9.76097286e-02,  2.24764943e-02,\n",
              "         -2.18509868e-01,  4.32166457e-02,  8.61830413e-02,\n",
              "         -1.24020092e-01],\n",
              "        [-1.76950842e-01, -1.43330425e-01,  7.82051384e-02,\n",
              "          2.00222313e-01, -1.07861117e-01, -2.25171849e-01,\n",
              "          3.42242420e-03,  5.83104193e-02,  2.24222392e-01,\n",
              "          1.96875006e-01],\n",
              "        [-3.89008522e-02, -1.92574322e-01, -5.04595041e-02,\n",
              "         -6.41975701e-02,  1.65139675e-01, -1.94582060e-01,\n",
              "          1.47007018e-01, -2.02091187e-01, -6.67912066e-02,\n",
              "         -7.58202523e-02],\n",
              "        [ 2.20166594e-01, -1.23765066e-01,  4.21542227e-02,\n",
              "          2.17724591e-01, -6.83214664e-02,  6.96181655e-02,\n",
              "         -1.99294314e-01,  1.74265802e-02, -2.05620632e-01,\n",
              "         -1.50740102e-01],\n",
              "        [-1.05704650e-01, -1.80627614e-01,  1.50632352e-01,\n",
              "         -5.79251945e-02,  7.73967206e-02, -1.72043368e-01,\n",
              "         -1.93891376e-01,  2.03595459e-02,  5.51111698e-02,\n",
              "          9.61932838e-02],\n",
              "        [ 3.86325121e-02,  1.30856007e-01,  1.52474493e-01,\n",
              "          6.52343035e-03, -1.58392072e-01, -1.14076883e-02,\n",
              "         -3.53609473e-02, -8.78380537e-02,  7.53894150e-02,\n",
              "         -1.10819146e-01],\n",
              "        [ 1.05877191e-01, -1.99658424e-01,  2.02164263e-01,\n",
              "          1.65500671e-01, -1.78764090e-01,  1.78647727e-01,\n",
              "          1.86114460e-01, -2.11594105e-01, -7.62343556e-02,\n",
              "         -1.53868243e-01],\n",
              "        [-1.08078226e-01,  1.27738416e-01, -1.99383631e-01,\n",
              "         -5.21525890e-02,  3.62719595e-02,  1.38651371e-01,\n",
              "         -1.10591628e-01, -2.21244618e-01, -2.29015172e-01,\n",
              "         -2.24457085e-02],\n",
              "        [-8.24817717e-02,  9.72734690e-02,  2.03905404e-01,\n",
              "         -1.07563049e-01,  2.07212776e-01, -2.25429609e-01,\n",
              "         -1.73282474e-02, -1.05628476e-01, -2.30601519e-01,\n",
              "         -2.31074765e-01],\n",
              "        [-2.93437690e-02, -1.94788694e-01, -1.32986158e-01,\n",
              "          1.68260902e-01,  2.12232709e-01,  2.22622991e-01,\n",
              "          1.63607508e-01,  1.12085581e-01, -1.45799607e-01,\n",
              "         -1.10252298e-01]], dtype=float32),\n",
              " array([0., 0., 0., 0., 0., 0., 0., 0., 0., 0.], dtype=float32)]"
            ]
          },
          "metadata": {
            "tags": []
          },
          "execution_count": 135
        }
      ]
    },
    {
      "cell_type": "code",
      "metadata": {
        "id": "3ZXhW9NlppJK",
        "outputId": "3f619cd6-6aa1-41ad-85ee-d39c3a6f6f01",
        "colab": {
          "base_uri": "https://localhost:8080/"
        }
      },
      "source": [
        "best_max_norm_val"
      ],
      "execution_count": 136,
      "outputs": [
        {
          "output_type": "execute_result",
          "data": {
            "text/plain": [
              "3.5"
            ]
          },
          "metadata": {
            "tags": []
          },
          "execution_count": 136
        }
      ]
    },
    {
      "cell_type": "code",
      "metadata": {
        "id": "GubhzoyYppJK",
        "outputId": "a82645db-815f-41a8-e336-0bf56740e1e8",
        "colab": {
          "base_uri": "https://localhost:8080/"
        }
      },
      "source": [
        "# we see that the norm of our weights are indeed below the maximum allowed value \n",
        "np.linalg.norm(best_weights[0][0])"
      ],
      "execution_count": 137,
      "outputs": [
        {
          "output_type": "execute_result",
          "data": {
            "text/plain": [
              "0.8765433"
            ]
          },
          "metadata": {
            "tags": []
          },
          "execution_count": 137
        }
      ]
    },
    {
      "cell_type": "code",
      "metadata": {
        "deletable": false,
        "nbgrader": {
          "cell_type": "code",
          "checksum": "67f65bd636e3b3b3bc7d20c02ba6b666",
          "grade": false,
          "grade_id": "cell-e752c1a8c853985d",
          "locked": false,
          "schema_version": 3,
          "solution": true,
          "task": false
        },
        "id": "sX5KHU_EppJK"
      },
      "source": [
        "# train a model using the max_norm_val value that scored the lowest \n",
        "\n",
        "# build a model using build_complex_model and worse_max_norm_val and save it to worse_model\n",
        "\n",
        "# fit model \n",
        "\n",
        "# get weights from worse performing model \n",
        "\n",
        "\n",
        "# YOUR CODE HERE\n",
        "raise NotImplementedError()"
      ],
      "execution_count": null,
      "outputs": []
    },
    {
      "cell_type": "code",
      "metadata": {
        "deletable": false,
        "nbgrader": {
          "cell_type": "code",
          "checksum": "a38d5d4db707124b31a662fb4743b049",
          "grade": false,
          "grade_id": "cell-5c1aa4543e68487d",
          "locked": false,
          "schema_version": 3,
          "solution": true,
          "task": false
        },
        "id": "eSbXXRO6ppJK"
      },
      "source": [
        "# YOUR CODE HERE\n",
        "raise NotImplementedError()"
      ],
      "execution_count": null,
      "outputs": []
    },
    {
      "cell_type": "code",
      "metadata": {
        "id": "kMMIfuX-ppJK"
      },
      "source": [
        "# move all weights to a dataframe for ease of analysis \n",
        "cols = [\"best_hidden_weights\", \"worse_hidden_weights\", \"initial_weight_values\"]\n",
        "data = [best_hidden_weights, worse_hidden_weights, initial_weight_values]\n",
        "df_maxnorm= pd.DataFrame(data=data).T\n",
        "df_maxnorm.columns = cols"
      ],
      "execution_count": null,
      "outputs": []
    },
    {
      "cell_type": "code",
      "metadata": {
        "id": "iG6HRrNjppJL"
      },
      "source": [
        "df_maxnorm.describe()"
      ],
      "execution_count": null,
      "outputs": []
    },
    {
      "cell_type": "code",
      "metadata": {
        "id": "S_VXyAqDppJL"
      },
      "source": [
        "# plot the distributions for each weight column \n",
        "df_maxnorm.hist(figsize=(20,12));"
      ],
      "execution_count": null,
      "outputs": []
    },
    {
      "cell_type": "markdown",
      "metadata": {
        "id": "67VIQ1RfppJL"
      },
      "source": [
        "## Observations \n",
        "\n",
        "Take a look at the statistical table and the plots. Then answer the following questions. \n",
        "\n",
        "**How do the hidden layer weights from the best performing model compare to the initial weight values?**"
      ]
    },
    {
      "cell_type": "markdown",
      "metadata": {
        "deletable": false,
        "nbgrader": {
          "cell_type": "markdown",
          "checksum": "f43fe1110cdcea8d1e4b432fe78d4e49",
          "grade": true,
          "grade_id": "cell-40a44d19694941b8",
          "locked": false,
          "points": 0,
          "schema_version": 3,
          "solution": true,
          "task": false
        },
        "id": "U20iQYCIppJL"
      },
      "source": [
        "YOUR ANSWER HERE"
      ]
    },
    {
      "cell_type": "markdown",
      "metadata": {
        "id": "uMa-9t7LppJL"
      },
      "source": [
        "**What was the effect of using the weight constraint value in MaxNorm in the best performing model?**"
      ]
    },
    {
      "cell_type": "markdown",
      "metadata": {
        "deletable": false,
        "nbgrader": {
          "cell_type": "markdown",
          "checksum": "b1c59c58a5abdbc0b509983821198dba",
          "grade": true,
          "grade_id": "cell-4f9e1e134124e512",
          "locked": false,
          "points": 0,
          "schema_version": 3,
          "solution": true,
          "task": false
        },
        "id": "D1UMDsOGppJL"
      },
      "source": [
        "YOUR ANSWER HERE"
      ]
    },
    {
      "cell_type": "markdown",
      "metadata": {
        "id": "wUzLtBuIppJM"
      },
      "source": [
        "**What was the effect of using the weight constraint value in MaxNorm in the worse performing model?**"
      ]
    },
    {
      "cell_type": "markdown",
      "metadata": {
        "deletable": false,
        "nbgrader": {
          "cell_type": "markdown",
          "checksum": "0062b4ddfad487c39633c37f4710b752",
          "grade": true,
          "grade_id": "cell-4c289ce70c34048a",
          "locked": false,
          "points": 0,
          "schema_version": 3,
          "solution": true,
          "task": false
        },
        "id": "_aoyNge8ppJM"
      },
      "source": [
        "YOUR ANSWER HERE"
      ]
    },
    {
      "cell_type": "markdown",
      "metadata": {
        "id": "ovech1rLppJM"
      },
      "source": [
        "**Given what you know about MaxNorm regularization, are you surprised by these results?**"
      ]
    },
    {
      "cell_type": "markdown",
      "metadata": {
        "deletable": false,
        "nbgrader": {
          "cell_type": "markdown",
          "checksum": "3c36931d3532a8cbcb4ea0c956378728",
          "grade": true,
          "grade_id": "cell-77366a912217da5d",
          "locked": false,
          "points": 0,
          "schema_version": 3,
          "solution": true,
          "task": false
        },
        "id": "ksueUDPzppJM"
      },
      "source": [
        "YOUR ANSWER HERE"
      ]
    },
    {
      "cell_type": "markdown",
      "metadata": {
        "id": "zFfppxoLppJM"
      },
      "source": [
        "-----\n",
        "# Experiment 3: Identify the relationship between model performance and Dropout\n",
        "\n",
        "\n",
        "![](https://miro.medium.com/max/981/1*EinUlWw1n8vbcLyT0zx4gw.png)\n",
        "\n",
        "In the 3rd and final experiment, we will use gridsearch to see how model performance is affect by varying the value of the the dropout probability. \n",
        "\n",
        "Recall from lecture that dropout tends to perform best when used with weight constraint. Since this is the case, we will gridsearch both dropout probability and the weight constraint for MaxNorm. \n",
        "\n",
        "If interested, feel free to read through the original publication on [**Drop Out**](https://jmlr.org/papers/volume15/srivastava14a.old/srivastava14a.pdf). \n",
        "\n",
        "**Key Take aways:** \n",
        "\n",
        "1. During training, dropout will probabilistically \"turn off\" some neurons in the layer that dropout is implemented in. \n",
        "2. During inference (ie. making predictions on the test set) all neurons are used (i.e. no dropout is applied).\n",
        "3. Dropout works best when used with MaxNorm\n"
      ]
    },
    {
      "cell_type": "code",
      "metadata": {
        "id": "tH5Fl6PmppJM"
      },
      "source": [
        "# build out our hyperparameter dictionary \n",
        "hyper_parameters = {\n",
        "    # for the sake of runtime, let's vary maxnorm_wc between 0.5 and 5.0\n",
        "    \"maxnorm_wc\": np.linspace(0.5, 5, num=10),\n",
        "    # take note that l1_reg_penalty values are in powers of 10 \n",
        "    \"dropout_prob\": np.linspace(0.0, 0.6, num=7), \n",
        "    \"epochs\": [1] # default is 1, in order to change it we must provide value here because we can provide a parameter value for model.fit() directly when using gridsearch\n",
        "}\n",
        "\n",
        "hyper_parameters"
      ],
      "execution_count": null,
      "outputs": []
    },
    {
      "cell_type": "code",
      "metadata": {
        "id": "7NTE4nJOppJN"
      },
      "source": [
        "start=time()\n",
        "# Create and run Grid Search\n",
        "grid = GridSearchCV(estimator=model, \n",
        "                    param_grid=hyper_parameters, \n",
        "                    n_jobs=-2, \n",
        "                    verbose=1, \n",
        "                    cv=3)\n",
        "\n",
        "grid_result = grid.fit(X_train, y_train)\n",
        "end=time()"
      ],
      "execution_count": null,
      "outputs": []
    },
    {
      "cell_type": "code",
      "metadata": {
        "id": "s6FtIiVhppJN"
      },
      "source": [
        "print(\"Gridsearch runtime {0:.3} mins\".format( (end-start)/60 ))"
      ],
      "execution_count": null,
      "outputs": []
    },
    {
      "cell_type": "code",
      "metadata": {
        "id": "CWaBEY8KppJN"
      },
      "source": [
        "# use the mean accuracy from the CV splits for determining best model score \n",
        "means = grid.cv_results_['mean_test_score']\n",
        "stds = grid.cv_results_['std_test_score']\n",
        "params = grid.cv_results_['params']\n",
        "\n",
        "# move l2 penalty values outside of dictionary and into a list\n",
        "param_values = [dic[\"dropout_prob\"] for dic in params]"
      ],
      "execution_count": null,
      "outputs": []
    },
    {
      "cell_type": "markdown",
      "metadata": {
        "id": "zjYEFtQHppJN"
      },
      "source": [
        "Since there are 2 indepdent variables this time around (dropout_prob and maxnorm_wc) which affect the validation accuracy, it's best to use a different plot. A heat map will work. "
      ]
    },
    {
      "cell_type": "code",
      "metadata": {
        "id": "keeZgHWHppJN"
      },
      "source": [
        "dropout_prob_list = [  dic[\"dropout_prob\"]  for dic in params]\n",
        "maxnorm_wc_list = [  dic[\"maxnorm_wc\"]  for dic in params]\n",
        "data = [means, dropout_prob_list, maxnorm_wc_list ]\n",
        "\n",
        "cols = [\"val_acc\", \"dropout_prob\", \"maxnorm_wc\"]\n",
        "df_exp3 =pd.DataFrame(data=data).T\n",
        "df_exp3.columns = cols\n",
        "df_exp3.dropout_prob = df_exp3.dropout_prob.round(2)\n",
        "\n",
        "# pivot dataframe in preperation for heat map\n",
        "df_exp3 = df_exp3.pivot(\"maxnorm_wc\", \"dropout_prob\", \"val_acc\")"
      ],
      "execution_count": null,
      "outputs": []
    },
    {
      "cell_type": "code",
      "metadata": {
        "id": "hOHIhHHhppJN"
      },
      "source": [
        "# Draw a heatmap with the val_acc values in each cell\n",
        "f, ax = plt.subplots(figsize=(18, 8))\n",
        "sns.heatmap(df_exp3, annot=True,  linewidths=.5, ax=ax);"
      ],
      "execution_count": null,
      "outputs": []
    },
    {
      "cell_type": "markdown",
      "metadata": {
        "id": "r-rpu48BppJO"
      },
      "source": [
        "### Observations \n",
        "\n",
        "We can see the dropout probabilities in the horizontal axis and the maxnorm weight constraint values in the virtical axis. The values in the cells are the validation accuracy that corresponds to a pair of regularization values.\n",
        "\n",
        "Take a look at the heat map and answer the following questions. Note that depending on which model you used (the simple or complex one) your answers might be different from that of others. "
      ]
    },
    {
      "cell_type": "markdown",
      "metadata": {
        "id": "YwJuJK_pppJO"
      },
      "source": [
        "**What range of dropout probability values tend to produce the highest validation accuracy?**"
      ]
    },
    {
      "cell_type": "markdown",
      "metadata": {
        "deletable": false,
        "nbgrader": {
          "cell_type": "markdown",
          "checksum": "0f0013d4e07104a03b4d51664a308f53",
          "grade": true,
          "grade_id": "cell-4e0cb7a9240b1531",
          "locked": false,
          "points": 0,
          "schema_version": 3,
          "solution": true,
          "task": false
        },
        "id": "_Y6gNf6fppJO"
      },
      "source": [
        "YOUR ANSWER HERE"
      ]
    },
    {
      "cell_type": "markdown",
      "metadata": {
        "id": "Lxb4ujchppJO"
      },
      "source": [
        "**What range of maxnorm weight constraints tend to produce the highest validation accuracy?**"
      ]
    },
    {
      "cell_type": "markdown",
      "metadata": {
        "deletable": false,
        "nbgrader": {
          "cell_type": "markdown",
          "checksum": "9fd88f0bb870a910b925d60b38d17694",
          "grade": true,
          "grade_id": "cell-99539755d7d328f7",
          "locked": false,
          "points": 0,
          "schema_version": 3,
          "solution": true,
          "task": false
        },
        "id": "r7dNIQazppJO"
      },
      "source": [
        "YOUR ANSWER HERE"
      ]
    },
    {
      "cell_type": "markdown",
      "metadata": {
        "id": "SLkWkFo5ppJO"
      },
      "source": [
        "**When taken together, what pair of dropout probability and maxnorm weight constraints tend to produce the highest validation accuracy?**"
      ]
    },
    {
      "cell_type": "markdown",
      "metadata": {
        "deletable": false,
        "nbgrader": {
          "cell_type": "markdown",
          "checksum": "fee1e09ed8f6d354bd7b6e2986c2b811",
          "grade": true,
          "grade_id": "cell-5e19a56b4a2d975d",
          "locked": false,
          "points": 0,
          "schema_version": 3,
          "solution": true,
          "task": false
        },
        "id": "Pg456mIwppJP"
      },
      "source": [
        "YOUR ANSWER HERE"
      ]
    },
    {
      "cell_type": "markdown",
      "metadata": {
        "id": "fmlfLkpwppJP"
      },
      "source": [
        "**Do you think that using dropout was helpful in increasing model performance?**"
      ]
    },
    {
      "cell_type": "markdown",
      "metadata": {
        "deletable": false,
        "nbgrader": {
          "cell_type": "markdown",
          "checksum": "de9c1bcff3c5eb6266cc80632d0956f0",
          "grade": true,
          "grade_id": "cell-d2a2f7b284c801dc",
          "locked": false,
          "points": 0,
          "schema_version": 3,
          "solution": true,
          "task": false
        },
        "id": "1Dv-ZIcappJP"
      },
      "source": [
        "YOUR ANSWER HERE"
      ]
    },
    {
      "cell_type": "markdown",
      "metadata": {
        "id": "8KAX81K3ppJP"
      },
      "source": [
        "-----\n",
        "# Stretch Goals for $L_p$ Space section\n",
        "\n",
        "Here are some ideas that you can explore using the custom distance metric class that you have built. Though if you think of something else, go for it!\n",
        "\n",
        "- Run a similar experiment but instead of comparing L2 between Keras and our custom class, compare L1 (Lasso) \n",
        "- Run a similar experiment but instead of comparing L2 between Keras and our custom class, compare L1_L2 (Elastic Net) \n",
        "- Run a gridsearch across several different Lp distance metrics and strengths and see which Lp distance leads to the best performing model\n",
        "    - Consider selecting a p range between **[1, 1.5, 2, 2.5, 3, 3.5, 4, 4.5, 5, ..., 10]** step size of 0.5\n",
        "    - Consider selecting a p range between **[1, 10, 100, 1000, 10000]** step size in powers of 10"
      ]
    },
    {
      "cell_type": "markdown",
      "metadata": {
        "id": "5voHkgEEppJQ"
      },
      "source": [
        "_____\n",
        "\n",
        "### Experiment 4: Train, Save, and Load a Keras model\n",
        "\n",
        "Let's get some practice with how to save and load trained Keras models \n",
        "\n",
        "For this experiment, review the section on Saving and Loading models from the guided project in order to help you to: \n",
        "\n",
        "- Build a model of your choosing\n",
        "- Gridsearch the model with a method of your choosing\n",
        "- Save the trained model to file\n",
        "- Load the trained model from file\n",
        "- Just as we did in the Guided Project, evalute the loaded model using a test set and make sure the results of the loaded model match that of the saved model "
      ]
    }
  ]
}